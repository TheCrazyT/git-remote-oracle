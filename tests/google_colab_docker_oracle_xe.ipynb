{
  "cells": [
    {
      "cell_type": "markdown",
      "metadata": {
        "id": "pih70jsEaIuR"
      },
      "source": [
        "# Initialize docker for google colab"
      ]
    },
    {
      "cell_type": "code",
      "execution_count": null,
      "metadata": {
        "colab": {
          "base_uri": "https://localhost:8080/"
        },
        "id": "YKXFVjUuZzpO",
        "outputId": "a2bfa062-e29b-4f32-a8d7-8e4a88722245"
      },
      "outputs": [
        {
          "output_type": "stream",
          "name": "stdout",
          "text": [
            "Get:1 https://cloud.r-project.org/bin/linux/ubuntu focal-cran40/ InRelease [3,622 B]\n",
            "Get:2 https://developer.download.nvidia.com/compute/cuda/repos/ubuntu2004/x86_64  InRelease [1,581 B]\n",
            "Get:3 http://security.ubuntu.com/ubuntu focal-security InRelease [114 kB]\n",
            "Get:4 http://ppa.launchpad.net/c2d4u.team/c2d4u4.0+/ubuntu focal InRelease [18.1 kB]\n",
            "Hit:5 http://archive.ubuntu.com/ubuntu focal InRelease\n",
            "Get:6 https://developer.download.nvidia.com/compute/cuda/repos/ubuntu2004/x86_64  Packages [1,079 kB]\n",
            "Get:7 http://archive.ubuntu.com/ubuntu focal-updates InRelease [114 kB]\n",
            "Get:8 https://cloud.r-project.org/bin/linux/ubuntu focal-cran40/ Packages [81.0 kB]\n",
            "Hit:9 http://ppa.launchpad.net/cran/libgit2/ubuntu focal InRelease\n",
            "Get:10 http://security.ubuntu.com/ubuntu focal-security/restricted amd64 Packages [2,482 kB]\n",
            "Hit:11 http://ppa.launchpad.net/deadsnakes/ppa/ubuntu focal InRelease\n",
            "Get:12 http://archive.ubuntu.com/ubuntu focal-backports InRelease [108 kB]\n",
            "Get:13 http://security.ubuntu.com/ubuntu focal-security/universe amd64 Packages [1,066 kB]\n",
            "Get:14 http://security.ubuntu.com/ubuntu focal-security/multiverse amd64 Packages [28.5 kB]\n",
            "Get:15 http://security.ubuntu.com/ubuntu focal-security/main amd64 Packages [2,858 kB]\n",
            "Get:16 http://ppa.launchpad.net/graphics-drivers/ppa/ubuntu focal InRelease [24.3 kB]\n",
            "Hit:17 http://ppa.launchpad.net/ubuntugis/ppa/ubuntu focal InRelease\n",
            "Get:18 http://archive.ubuntu.com/ubuntu focal-updates/universe amd64 Packages [1,366 kB]\n",
            "Get:19 http://ppa.launchpad.net/c2d4u.team/c2d4u4.0+/ubuntu focal/main Sources [2,604 kB]\n",
            "Get:20 http://archive.ubuntu.com/ubuntu focal-updates/main amd64 Packages [3,343 kB]\n",
            "Get:21 http://archive.ubuntu.com/ubuntu focal-updates/restricted amd64 Packages [2,648 kB]\n",
            "Get:22 http://archive.ubuntu.com/ubuntu focal-updates/multiverse amd64 Packages [31.2 kB]\n",
            "Get:23 http://ppa.launchpad.net/c2d4u.team/c2d4u4.0+/ubuntu focal/main amd64 Packages [1,229 kB]\n",
            "Get:24 http://ppa.launchpad.net/graphics-drivers/ppa/ubuntu focal/main amd64 Packages [44.1 kB]\n",
            "Fetched 19.2 MB in 3s (6,204 kB/s)\n",
            "Reading package lists...\n",
            "Reading package lists...\n",
            "Building dependency tree...\n",
            "Reading state information...\n",
            "ca-certificates is already the newest version (20230311ubuntu0.20.04.1).\n",
            "curl is already the newest version (7.68.0-1ubuntu2.18).\n",
            "gnupg is already the newest version (2.2.19-3ubuntu2.2).\n",
            "gnupg set to manually installed.\n",
            "0 upgraded, 0 newly installed, 0 to remove and 31 not upgraded.\n"
          ]
        }
      ],
      "source": [
        "%%bash\n",
        "sudo apt-get update\n",
        "sudo apt-get install -y ca-certificates curl gnupg\n",
        "install -m 0755 -d /etc/apt/keyrings\n",
        "curl -fsSL https://download.docker.com/linux/ubuntu/gpg | sudo gpg --dearmor -o /etc/apt/keyrings/docker.gpg\n",
        "chmod a+r /etc/apt/keyrings/docker.gpg\n",
        "echo \\\n",
        "  \"deb [arch=\"$(dpkg --print-architecture)\" signed-by=/etc/apt/keyrings/docker.gpg] https://download.docker.com/linux/ubuntu \\\n",
        "  \"$(. /etc/os-release && echo \"$VERSION_CODENAME\")\" stable\" | \\\n",
        "  sudo tee /etc/apt/sources.list.d/docker.list > /dev/null"
      ]
    },
    {
      "cell_type": "code",
      "execution_count": null,
      "metadata": {
        "colab": {
          "base_uri": "https://localhost:8080/"
        },
        "id": "ZSLTeGIgZj-l",
        "outputId": "d641878f-47b7-4ad3-db64-bb29e7a91ac1"
      },
      "outputs": [
        {
          "output_type": "stream",
          "name": "stdout",
          "text": [
            "Hit:1 http://security.ubuntu.com/ubuntu focal-security InRelease\n",
            "Get:2 https://download.docker.com/linux/ubuntu focal InRelease [57.7 kB]\n",
            "Hit:3 https://cloud.r-project.org/bin/linux/ubuntu focal-cran40/ InRelease\n",
            "Hit:4 https://developer.download.nvidia.com/compute/cuda/repos/ubuntu2004/x86_64  InRelease\n",
            "Hit:5 http://archive.ubuntu.com/ubuntu focal InRelease\n",
            "Hit:6 http://ppa.launchpad.net/c2d4u.team/c2d4u4.0+/ubuntu focal InRelease\n",
            "Hit:7 http://archive.ubuntu.com/ubuntu focal-updates InRelease\n",
            "Hit:8 http://archive.ubuntu.com/ubuntu focal-backports InRelease\n",
            "Hit:9 http://ppa.launchpad.net/cran/libgit2/ubuntu focal InRelease\n",
            "Get:10 https://download.docker.com/linux/ubuntu focal/stable amd64 Packages [35.7 kB]\n",
            "Hit:11 http://ppa.launchpad.net/deadsnakes/ppa/ubuntu focal InRelease\n",
            "Hit:12 http://ppa.launchpad.net/graphics-drivers/ppa/ubuntu focal InRelease\n",
            "Hit:13 http://ppa.launchpad.net/ubuntugis/ppa/ubuntu focal InRelease\n",
            "Fetched 93.4 kB in 2s (55.7 kB/s)\n",
            "Reading package lists...\n",
            "Building dependency tree...\n",
            "Reading state information...\n",
            "31 packages can be upgraded. Run 'apt list --upgradable' to see them.\n",
            "Reading package lists...\n",
            "Building dependency tree...\n",
            "Reading state information...\n",
            "The following additional packages will be installed:\n",
            "  apparmor docker-ce-rootless-extras iptables libip6tc2\n",
            "  libnetfilter-conntrack3 libnfnetlink0 libnftnl11 netbase pigz slirp4netns\n",
            "Suggested packages:\n",
            "  apparmor-profiles-extra apparmor-utils aufs-tools cgroupfs-mount\n",
            "  | cgroup-lite firewalld nftables\n",
            "The following NEW packages will be installed:\n",
            "  apparmor containerd.io docker-buildx-plugin docker-ce docker-ce-cli\n",
            "  docker-ce-rootless-extras docker-compose-plugin iptables libip6tc2\n",
            "  libnetfilter-conntrack3 libnfnetlink0 libnftnl11 netbase pigz slirp4netns\n",
            "0 upgraded, 15 newly installed, 0 to remove and 31 not upgraded.\n",
            "Need to get 112 MB of archives.\n",
            "After this operation, 407 MB of additional disk space will be used.\n",
            "Get:1 https://download.docker.com/linux/ubuntu focal/stable amd64 containerd.io amd64 1.6.21-1 [28.3 MB]\n",
            "Get:2 http://archive.ubuntu.com/ubuntu focal/universe amd64 pigz amd64 2.4-1 [57.4 kB]\n",
            "Get:3 http://archive.ubuntu.com/ubuntu focal/main amd64 netbase all 6.1 [13.1 kB]\n",
            "Get:4 http://archive.ubuntu.com/ubuntu focal-updates/main amd64 apparmor amd64 2.13.3-7ubuntu5.2 [502 kB]\n",
            "Get:5 https://download.docker.com/linux/ubuntu focal/stable amd64 docker-buildx-plugin amd64 0.10.5-1~ubuntu.20.04~focal [26.1 MB]\n",
            "Get:6 http://archive.ubuntu.com/ubuntu focal-updates/main amd64 libip6tc2 amd64 1.8.4-3ubuntu2.1 [19.4 kB]\n",
            "Get:7 http://archive.ubuntu.com/ubuntu focal/main amd64 libnfnetlink0 amd64 1.0.1-3build1 [13.8 kB]\n",
            "Get:8 http://archive.ubuntu.com/ubuntu focal/main amd64 libnetfilter-conntrack3 amd64 1.0.7-2 [41.4 kB]\n",
            "Get:9 http://archive.ubuntu.com/ubuntu focal/main amd64 libnftnl11 amd64 1.1.5-1 [57.8 kB]\n",
            "Get:10 http://archive.ubuntu.com/ubuntu focal-updates/main amd64 iptables amd64 1.8.4-3ubuntu2.1 [390 kB]\n",
            "Get:11 https://download.docker.com/linux/ubuntu focal/stable amd64 docker-ce-cli amd64 5:24.0.2-1~ubuntu.20.04~focal [13.3 MB]\n",
            "Get:12 http://archive.ubuntu.com/ubuntu focal/universe amd64 slirp4netns amd64 0.4.3-1 [74.3 kB]\n",
            "Get:13 https://download.docker.com/linux/ubuntu focal/stable amd64 docker-ce amd64 5:24.0.2-1~ubuntu.20.04~focal [22.9 MB]\n",
            "Get:14 https://download.docker.com/linux/ubuntu focal/stable amd64 docker-ce-rootless-extras amd64 5:24.0.2-1~ubuntu.20.04~focal [9,018 kB]\n",
            "Get:15 https://download.docker.com/linux/ubuntu focal/stable amd64 docker-compose-plugin amd64 2.18.1-1~ubuntu.20.04~focal [10.9 MB]\n",
            "Fetched 112 MB in 2s (69.9 MB/s)\n",
            "Selecting previously unselected package pigz.\r\n",
            "(Reading database ... \r(Reading database ... 5%\r(Reading database ... 10%\r(Reading database ... 15%\r(Reading database ... 20%\r(Reading database ... 25%\r(Reading database ... 30%\r(Reading database ... 35%\r(Reading database ... 40%\r(Reading database ... 45%\r(Reading database ... 50%\r(Reading database ... 55%\r(Reading database ... 60%\r(Reading database ... 65%\r(Reading database ... 70%\r(Reading database ... 75%\r(Reading database ... 80%\r(Reading database ... 85%\r(Reading database ... 90%\r(Reading database ... 95%\r(Reading database ... 100%\r(Reading database ... 123069 files and directories currently installed.)\r\n",
            "Preparing to unpack .../00-pigz_2.4-1_amd64.deb ...\r\n",
            "Unpacking pigz (2.4-1) ...\r\n",
            "Selecting previously unselected package netbase.\r\n",
            "Preparing to unpack .../01-netbase_6.1_all.deb ...\r\n",
            "Unpacking netbase (6.1) ...\r\n",
            "Selecting previously unselected package apparmor.\r\n",
            "Preparing to unpack .../02-apparmor_2.13.3-7ubuntu5.2_amd64.deb ...\r\n",
            "Unpacking apparmor (2.13.3-7ubuntu5.2) ...\r\n",
            "Selecting previously unselected package libip6tc2:amd64.\r\n",
            "Preparing to unpack .../03-libip6tc2_1.8.4-3ubuntu2.1_amd64.deb ...\r\n",
            "Unpacking libip6tc2:amd64 (1.8.4-3ubuntu2.1) ...\r\n",
            "Selecting previously unselected package libnfnetlink0:amd64.\r\n",
            "Preparing to unpack .../04-libnfnetlink0_1.0.1-3build1_amd64.deb ...\r\n",
            "Unpacking libnfnetlink0:amd64 (1.0.1-3build1) ...\r\n",
            "Selecting previously unselected package libnetfilter-conntrack3:amd64.\r\n",
            "Preparing to unpack .../05-libnetfilter-conntrack3_1.0.7-2_amd64.deb ...\r\n",
            "Unpacking libnetfilter-conntrack3:amd64 (1.0.7-2) ...\r\n",
            "Selecting previously unselected package libnftnl11:amd64.\r\n",
            "Preparing to unpack .../06-libnftnl11_1.1.5-1_amd64.deb ...\r\n",
            "Unpacking libnftnl11:amd64 (1.1.5-1) ...\r\n",
            "Selecting previously unselected package iptables.\r\n",
            "Preparing to unpack .../07-iptables_1.8.4-3ubuntu2.1_amd64.deb ...\r\n",
            "Unpacking iptables (1.8.4-3ubuntu2.1) ...\r\n",
            "Selecting previously unselected package containerd.io.\r\n",
            "Preparing to unpack .../08-containerd.io_1.6.21-1_amd64.deb ...\r\n",
            "Unpacking containerd.io (1.6.21-1) ...\r\n",
            "Selecting previously unselected package docker-buildx-plugin.\r\n",
            "Preparing to unpack .../09-docker-buildx-plugin_0.10.5-1~ubuntu.20.04~focal_amd64.deb ...\r\n",
            "Unpacking docker-buildx-plugin (0.10.5-1~ubuntu.20.04~focal) ...\r\n",
            "Selecting previously unselected package docker-ce-cli.\r\n",
            "Preparing to unpack .../10-docker-ce-cli_5%3a24.0.2-1~ubuntu.20.04~focal_amd64.deb ...\r\n",
            "Unpacking docker-ce-cli (5:24.0.2-1~ubuntu.20.04~focal) ...\r\n",
            "Selecting previously unselected package docker-ce.\r\n",
            "Preparing to unpack .../11-docker-ce_5%3a24.0.2-1~ubuntu.20.04~focal_amd64.deb ...\r\n",
            "Unpacking docker-ce (5:24.0.2-1~ubuntu.20.04~focal) ...\r\n",
            "Selecting previously unselected package docker-ce-rootless-extras.\r\n",
            "Preparing to unpack .../12-docker-ce-rootless-extras_5%3a24.0.2-1~ubuntu.20.04~focal_amd64.deb ...\r\n",
            "Unpacking docker-ce-rootless-extras (5:24.0.2-1~ubuntu.20.04~focal) ...\r\n",
            "Selecting previously unselected package docker-compose-plugin.\r\n",
            "Preparing to unpack .../13-docker-compose-plugin_2.18.1-1~ubuntu.20.04~focal_amd64.deb ...\r\n",
            "Unpacking docker-compose-plugin (2.18.1-1~ubuntu.20.04~focal) ...\r\n",
            "Selecting previously unselected package slirp4netns.\r\n",
            "Preparing to unpack .../14-slirp4netns_0.4.3-1_amd64.deb ...\r\n",
            "Unpacking slirp4netns (0.4.3-1) ...\r\n",
            "Setting up slirp4netns (0.4.3-1) ...\r\n",
            "Setting up libip6tc2:amd64 (1.8.4-3ubuntu2.1) ...\r\n",
            "Setting up libnftnl11:amd64 (1.1.5-1) ...\r\n",
            "Setting up apparmor (2.13.3-7ubuntu5.2) ...\r\n",
            "debconf: unable to initialize frontend: Dialog\r\n",
            "debconf: (No usable dialog-like program is installed, so the dialog based frontend cannot be used. at /usr/share/perl5/Debconf/FrontEnd/Dialog.pm line 76.)\r\n",
            "debconf: falling back to frontend: Readline\r\n",
            "Created symlink /etc/systemd/system/sysinit.target.wants/apparmor.service → /lib/systemd/system/apparmor.service.\r\n",
            "Setting up docker-buildx-plugin (0.10.5-1~ubuntu.20.04~focal) ...\r\n",
            "Setting up containerd.io (1.6.21-1) ...\r\n",
            "Created symlink /etc/systemd/system/multi-user.target.wants/containerd.service → /lib/systemd/system/containerd.service.\r\n",
            "Setting up docker-compose-plugin (2.18.1-1~ubuntu.20.04~focal) ...\r\n",
            "Setting up docker-ce-cli (5:24.0.2-1~ubuntu.20.04~focal) ...\r\n",
            "Setting up pigz (2.4-1) ...\r\n",
            "Setting up libnfnetlink0:amd64 (1.0.1-3build1) ...\r\n",
            "Setting up netbase (6.1) ...\r\n",
            "Setting up docker-ce-rootless-extras (5:24.0.2-1~ubuntu.20.04~focal) ...\r\n",
            "Setting up libnetfilter-conntrack3:amd64 (1.0.7-2) ...\r\n",
            "Setting up iptables (1.8.4-3ubuntu2.1) ...\r\n",
            "update-alternatives: using /usr/sbin/iptables-legacy to provide /usr/sbin/iptables (iptables) in auto mode\r\n",
            "update-alternatives: using /usr/sbin/ip6tables-legacy to provide /usr/sbin/ip6tables (ip6tables) in auto mode\r\n",
            "update-alternatives: using /usr/sbin/arptables-nft to provide /usr/sbin/arptables (arptables) in auto mode\r\n",
            "update-alternatives: using /usr/sbin/ebtables-nft to provide /usr/sbin/ebtables (ebtables) in auto mode\r\n",
            "Setting up docker-ce (5:24.0.2-1~ubuntu.20.04~focal) ...\r\n",
            "Created symlink /etc/systemd/system/multi-user.target.wants/docker.service → /lib/systemd/system/docker.service.\r\n",
            "Created symlink /etc/systemd/system/sockets.target.wants/docker.socket → /lib/systemd/system/docker.socket.\r\n",
            "invoke-rc.d: could not determine current runlevel\r\n",
            "invoke-rc.d: policy-rc.d denied execution of start.\r\n",
            "Processing triggers for systemd (245.4-4ubuntu3.22) ...\r\n",
            "Processing triggers for man-db (2.9.1-1) ...\r\n",
            "Processing triggers for libc-bin (2.31-0ubuntu9.9) ...\r\n"
          ]
        },
        {
          "output_type": "stream",
          "name": "stderr",
          "text": [
            "\n",
            "WARNING: apt does not have a stable CLI interface. Use with caution in scripts.\n",
            "\n",
            "debconf: unable to initialize frontend: Dialog\n",
            "debconf: (No usable dialog-like program is installed, so the dialog based frontend cannot be used. at /usr/share/perl5/Debconf/FrontEnd/Dialog.pm line 76, <> line 15.)\n",
            "debconf: falling back to frontend: Readline\n",
            "debconf: unable to initialize frontend: Readline\n",
            "debconf: (This frontend requires a controlling tty.)\n",
            "debconf: falling back to frontend: Teletype\n",
            "dpkg-preconfigure: unable to re-open stdin: \n"
          ]
        }
      ],
      "source": [
        "%%bash\n",
        "sudo apt update\n",
        "sudo apt-get install -y docker-ce docker-ce-cli containerd.io docker-buildx-plugin docker-compose-plugin"
      ]
    },
    {
      "cell_type": "code",
      "execution_count": null,
      "metadata": {
        "id": "4xdXzaObaqfs"
      },
      "outputs": [],
      "source": [
        "%%script bash --bg --out docker_out --err docker_err\n",
        "killall dockerd\n",
        "rm /var/run/docker.pid 2>/dev/null\n",
        "set -x\n",
        "sudo dockerd -b none --iptables=0 -l warn"
      ]
    },
    {
      "cell_type": "code",
      "execution_count": null,
      "metadata": {
        "colab": {
          "base_uri": "https://localhost:8080/"
        },
        "id": "EoQoNq4RcRRk",
        "outputId": "46a76e07-a6cf-4889-9913-32ab52ef4b5d"
      },
      "outputs": [
        {
          "output_type": "stream",
          "name": "stdout",
          "text": [
            "21.3.0-xe: Pulling from database/express\n",
            "\n",
            "\u001b[1A\u001b[2K\r63183c9b4598: Pulling fs layer \r\u001b[1B\n",
            "\u001b[1A\u001b[2K\rfe297bb4960b: Pulling fs layer \r\u001b[1B\n",
            "\u001b[1A\u001b[2K\r31dd4858f370: Pulling fs layer \r\u001b[1B\n",
            "\u001b[1B\n",
            "\u001b[1BDigest: sha256:016d1a2becd9c9b9bfb683eebf3aa092527fe1354ace5b23691e75759f301bed\n",
            "Status: Downloaded newer image for container-registry.oracle.com/database/express:21.3.0-xe\n",
            "container-registry.oracle.com/database/express:21.3.0-xe\n"
          ]
        }
      ],
      "source": [
        "!sudo docker pull container-registry.oracle.com/database/express:21.3.0-xe"
      ]
    },
    {
      "cell_type": "code",
      "execution_count": null,
      "metadata": {
        "colab": {
          "base_uri": "https://localhost:8080/"
        },
        "id": "Xv3dQ9vdaIuf",
        "outputId": "7f948273-898f-4664-87ec-ef8f5aebc566"
      },
      "outputs": [
        {
          "output_type": "stream",
          "name": "stdout",
          "text": [
            "REPOSITORY                                       TAG         IMAGE ID       CREATED        SIZE\n",
            "container-registry.oracle.com/database/express   21.3.0-xe   c273dde6b184   9 months ago   11.2GB\n"
          ]
        }
      ],
      "source": [
        "!sudo docker images"
      ]
    },
    {
      "cell_type": "code",
      "execution_count": null,
      "metadata": {
        "id": "lrBeA0Hahxuv"
      },
      "outputs": [],
      "source": [
        "!sudo docker export $(docker create container-registry.oracle.com/database/express:21.3.0-xe) > img.tar"
      ]
    },
    {
      "cell_type": "code",
      "execution_count": null,
      "metadata": {
        "id": "xXX-zss-j2_o"
      },
      "outputs": [],
      "source": [
        "# create img folder that we can chroot in (since docker itself does not work in google colab)\n",
        "!mkdir img"
      ]
    },
    {
      "cell_type": "code",
      "execution_count": null,
      "metadata": {
        "colab": {
          "base_uri": "https://localhost:8080/"
        },
        "id": "T1SZleLrgTzm",
        "outputId": "cddafc68-0b69-4e28-b1d3-93e5668c1396"
      },
      "outputs": [
        {
          "output_type": "stream",
          "name": "stdout",
          "text": [
            "total 11G\n",
            "drwxr-xr-x  1 root root 4.0K Jul  5 05:13 .\n",
            "drwxr-xr-x  1 root root 4.0K Jul  5 04:56 ..\n",
            "drwxr-xr-x  4 root root 4.0K Jun 29 13:29 .config\n",
            "drwxr-xr-x 16 root root 4.0K Jul  5 05:15 img\n",
            "-rw-r--r--  1 root root  11G Jul  5 05:13 img.tar\n",
            "drwxr-xr-x  1 root root 4.0K Jun 29 13:30 sample_data\n"
          ]
        }
      ],
      "source": [
        "!tar -C img  --exclude=\"dev\" -xf img.tar && ls -lah"
      ]
    },
    {
      "cell_type": "code",
      "execution_count": null,
      "metadata": {
        "id": "U5YJ_tBFlfNI"
      },
      "outputs": [],
      "source": [
        "%%bash\n",
        "cd img\n",
        "sudo bash\n",
        "rm -Rf proc 2>/dev/null\n",
        "rm -Rf sys 2>/dev/null\n",
        "rm -Rf dev 2>/dev/null\n",
        "mkdir proc\n",
        "mkdir sys\n",
        "mkdir dev\n",
        "sudo mount -t proc /proc proc/\n",
        "sudo mount --rbind /sys sys/\n",
        "sudo mount --rbind /dev dev/"
      ]
    },
    {
      "cell_type": "code",
      "execution_count": null,
      "metadata": {
        "colab": {
          "base_uri": "https://localhost:8080/"
        },
        "id": "HevN2eAW_XH6",
        "outputId": "9c4c6815-8f93-4b66-a72c-eeffc0cbfcb0"
      },
      "outputs": [
        {
          "output_type": "stream",
          "name": "stdout",
          "text": [
            "All background processes were killed.\n"
          ]
        }
      ],
      "source": [
        "%killbgscripts"
      ]
    },
    {
      "cell_type": "markdown",
      "metadata": {
        "id": "9bYqUZxhaIuj"
      },
      "source": [
        "# Run oracle express"
      ]
    },
    {
      "cell_type": "code",
      "source": [
        "!kill $(ps -A|grep ora|grep -oP \"^..[0-9]+\"|grep -oP \"[0-9]+\")"
      ],
      "metadata": {
        "id": "erbrs65An2Z-"
      },
      "execution_count": null,
      "outputs": []
    },
    {
      "cell_type": "code",
      "source": [
        "!ps -A|grep ora"
      ],
      "metadata": {
        "id": "ubLHE9ltn_-L"
      },
      "execution_count": null,
      "outputs": []
    },
    {
      "cell_type": "code",
      "source": [
        "!killall tnslsnr"
      ],
      "metadata": {
        "id": "LqaZ4xaaf-wk"
      },
      "execution_count": null,
      "outputs": []
    },
    {
      "cell_type": "code",
      "execution_count": null,
      "metadata": {
        "id": "jPyIL4slqNPY",
        "colab": {
          "base_uri": "https://localhost:8080/"
        },
        "outputId": "85faae9e-55c0-4b1b-bb95-438fd8e2598d"
      },
      "outputs": [
        {
          "output_type": "stream",
          "name": "stdout",
          "text": [
            "Overwriting start_db.sh\n"
          ]
        }
      ],
      "source": [
        "%%writefile start_db.sh\n",
        "#!/bin/bash\n",
        "#%%script bash --bg --out script_out --err script_err\n",
        "#%%script bash\n",
        "kill $(ps -A|grep ora|grep -oP \"^..[0-9]+\"|grep -oP \"[0-9]+\")\n",
        "sudo bash\n",
        "sudo chroot img /bin/bash sDB.sh"
      ]
    },
    {
      "cell_type": "code",
      "source": [
        "%%writefile img/sDB.sh\n",
        "export ORACLE_BASE=/opt/oracle\n",
        "export ORACLE_HOME=/opt/oracle/product/21c/dbhomeXE\n",
        "export ORACLE_BASE_HOME=/opt/oracle/homes/OraDBHome21cXE\n",
        "export ORACLE_PWD=pwd123456\n",
        "\n",
        "export PATH=$PATH:/opt/oracle/product/21c/dbhomeXE/bin/\n",
        "export ORACLE_SID=XE\n",
        "export PWD_FILE=\"setPassword.sh\"\n",
        "export RUN_FILE=\"runOracle.sh\"\n",
        "export START_FILE=\"startDB.sh\"\n",
        "export CREATE_DB_FILE=\"createDB.sh\"\n",
        "export SETUP_LINUX_FILE=\"setupLinuxEnv.sh\"\n",
        "export CHECK_SPACE_FILE=\"checkSpace.sh\"\n",
        "export CHECK_DB_FILE=\"checkDBStatus.sh\"\n",
        "export USER_SCRIPTS_FILE=\"runUserScripts.sh\"\n",
        "export INSTALL_DB_BINARIES_FILE=\"installDBBinaries.sh\"\n",
        "export INSTALL_RSP=\"db_inst.rsp\"\n",
        "export CONFIG_RSP=\"dbca.rsp.tmpl\"\n",
        "export CONF_FILE=\"oracle-xe-21c.conf\"\n",
        "\n",
        "killall tnslsnr\n",
        "\n",
        "cd /opt/oracle/\n",
        "\n",
        "$ORACLE_HOME/root.sh\n",
        "chmod +x ./$RUN_FILE\n",
        "su oracle\n",
        "echo|./$RUN_FILE"
      ],
      "metadata": {
        "id": "ycU9S8Opwtvb",
        "outputId": "5b7a22b0-b950-4c4a-a1bd-2bb18e370c35",
        "colab": {
          "base_uri": "https://localhost:8080/"
        }
      },
      "execution_count": null,
      "outputs": [
        {
          "output_type": "stream",
          "name": "stdout",
          "text": [
            "Writing img/sDB.sh\n"
          ]
        }
      ]
    },
    {
      "cell_type": "code",
      "source": [
        "!chmod +x start_db.sh && echo|bash ./start_db.sh"
      ],
      "metadata": {
        "id": "JFiO8AgNvBBP",
        "outputId": "9244220a-c830-4db4-dcdf-9148f527d557",
        "colab": {
          "base_uri": "https://localhost:8080/"
        }
      },
      "execution_count": null,
      "outputs": [
        {
          "output_type": "stream",
          "name": "stdout",
          "text": [
            "kill: usage: kill [-s sigspec | -n signum | -sigspec] pid | jobspec ... or kill -l [sigspec]\n",
            "tnslsnr: no process found\n",
            "Check /opt/oracle/product/21c/dbhomeXE/install/root_0df340d835e9_2023-07-05_06-35-43-539377490.log for the output of root script\n",
            "Specify a password to be used for database accounts. Oracle recommends that the password entered should be at least 8 characters in length, contain at least 1 uppercase character, 1 lower case character and 1 digit [0-9]. Note that the same password will be used for SYS, SYSTEM and PDBADMIN accounts:\n",
            "Confirm the password:\n",
            "Configuring Oracle Listener.\n",
            "Listener configuration succeeded.\n",
            "Configuring Oracle Database XE.\n",
            "Enter SYS user password: \n",
            "*********\b \b**\n",
            "Enter SYSTEM user password: \n",
            "*********\b \b****\n",
            "Enter PDBADMIN User Password: \n",
            "*********\b \b\n",
            "Prepare for db operation\n",
            "7% complete\n",
            "Copying database files\n",
            "29% complete\n",
            "Creating and starting Oracle instance\n",
            "30% complete\n",
            "33% complete\n",
            "37% complete\n",
            "40% complete\n",
            "43% complete\n",
            "Completing Database Creation\n",
            "47% complete\n",
            "50% complete\n",
            "Creating Pluggable Databases\n",
            "54% complete\n",
            "71% complete\n",
            "Executing Post Configuration Actions\n",
            "93% complete\n",
            "Running Custom Scripts\n",
            "100% complete\n",
            "Database creation complete. For details check the logfiles at:\n",
            " /opt/oracle/cfgtoollogs/dbca/XE.\n",
            "Database Information:\n",
            "Global Database Name:XE\n",
            "System Identifier(SID):XE\n",
            "Look at the log file \"/opt/oracle/cfgtoollogs/dbca/XE/XE.log\" for further details.\n",
            "\n",
            "Connect to Oracle Database using one of the connect strings:\n",
            "     Pluggable database: 0df340d835e9/XEPDB1\n",
            "     Multitenant container database: 0df340d835e9\n",
            "Use https://localhost:5500/em to access Oracle Enterprise Manager for Oracle Database XE\n",
            "\n",
            "SQL*Plus: Release 21.0.0.0.0 - Production on Wed Jul 5 06:47:49 2023\n",
            "Version 21.3.0.0.0\n",
            "\n",
            "Copyright (c) 1982, 2021, Oracle.  All rights reserved.\n",
            "\n",
            "ERROR:\n",
            "ORA-12547: TNS:lost contact\n",
            "\n",
            "\n",
            "Enter user-name: SP2-0306: Invalid option.\n",
            "Usage: CONN[ECT] [{logon|/|proxy} [AS {SYSDBA|SYSOPER|SYSASM|SYSBACKUP|SYSDG|SYSKM|SYSRAC}] [edition=value]]\n",
            "where <logon> ::= <username>[/<password>][@<connect_identifier>]\n",
            "      <proxy> ::= <proxyuser>[<username>][/<password>][@<connect_identifier>]\n",
            "Enter user-name: SP2-0306: Invalid option.\n",
            "Usage: CONN[ECT] [{logon|/|proxy} [AS {SYSDBA|SYSOPER|SYSASM|SYSBACKUP|SYSDG|SYSKM|SYSRAC}] [edition=value]]\n",
            "where <logon> ::= <username>[/<password>][@<connect_identifier>]\n",
            "      <proxy> ::= <proxyuser>[<username>][/<password>][@<connect_identifier>]\n",
            "SP2-0157: unable to CONNECT to ORACLE after 3 attempts, exiting SQL*Plus\n"
          ]
        }
      ]
    },
    {
      "cell_type": "markdown",
      "metadata": {
        "id": "dSAeco-WaIuk"
      },
      "source": [
        "# Prepare script files"
      ]
    },
    {
      "cell_type": "code",
      "execution_count": null,
      "metadata": {
        "colab": {
          "base_uri": "https://localhost:8080/"
        },
        "id": "D1KDg2zuoV16",
        "outputId": "f24a615d-b4cc-4b31-fe4e-b990321693f6"
      },
      "outputs": [
        {
          "output_type": "stream",
          "name": "stdout",
          "text": [
            "Writing /content/img/script.sql\n"
          ]
        }
      ],
      "source": [
        "%%writefile /content/img/script.sql\n",
        "SELECT uid FROM dual;"
      ]
    },
    {
      "cell_type": "code",
      "execution_count": null,
      "metadata": {
        "colab": {
          "base_uri": "https://localhost:8080/"
        },
        "id": "kRt8NjVkVG3s",
        "outputId": "5147ff49-3ff0-41a4-9852-52a1354a7732"
      },
      "outputs": [
        {
          "output_type": "stream",
          "name": "stdout",
          "text": [
            "Writing /content/img/add_user.sql\n"
          ]
        }
      ],
      "source": [
        "%%writefile /content/img/add_user.sql\n",
        "CREATE USER john IDENTIFIED BY pwd123456;\n",
        "GRANT CREATE SESSION TO john;\n",
        "GRANT CREATE ANY PROCEDURE TO john;\n",
        "GRANT CREATE ANY TABLE TO john;\n",
        "GRANT CREATE ANY VIEW TO john;"
      ]
    },
    {
      "cell_type": "code",
      "execution_count": null,
      "metadata": {
        "colab": {
          "base_uri": "https://localhost:8080/"
        },
        "id": "uhtVj-08XbMk",
        "outputId": "4b7f5c0c-aa14-44a0-d7d1-f0eb4f4ae6d0"
      },
      "outputs": [
        {
          "output_type": "stream",
          "name": "stdout",
          "text": [
            "Writing /content/img/add_packages.sql\n"
          ]
        }
      ],
      "source": [
        "%%writefile /content/img/add_packages.sql\n",
        "CREATE OR REPLACE PACKAGE test AS\n",
        "  PROCEDURE test_proc;\n",
        "END test;\n",
        "/\n",
        "\n",
        "CREATE OR REPLACE PACKAGE BODY test AS\n",
        "  PROCEDURE test_proc AS\n",
        "  BEGIN\n",
        "    NULL;\n",
        "  END;\n",
        "END test;\n",
        "/\n",
        "quit"
      ]
    },
    {
      "cell_type": "code",
      "execution_count": null,
      "metadata": {
        "colab": {
          "base_uri": "https://localhost:8080/"
        },
        "id": "UIE0CaYPaIul",
        "outputId": "1b3523c4-ba52-4bce-bc02-764d9e626c81"
      },
      "outputs": [
        {
          "output_type": "stream",
          "name": "stdout",
          "text": [
            "Writing /content/img/add_tables.sql\n"
          ]
        }
      ],
      "source": [
        "%%writefile /content/img/add_tables.sql\n",
        "CREATE TABLE TEST_TABLE\n",
        "(\n",
        "  test_col VARCHAR(255)\n",
        ");\n",
        "\n",
        "quit"
      ]
    },
    {
      "cell_type": "code",
      "execution_count": null,
      "metadata": {
        "colab": {
          "base_uri": "https://localhost:8080/"
        },
        "id": "9rMeJKHyaIum",
        "outputId": "53ba854f-0375-4931-8253-69426be9e908"
      },
      "outputs": [
        {
          "output_type": "stream",
          "name": "stdout",
          "text": [
            "Writing /content/img/add_views.sql\n"
          ]
        }
      ],
      "source": [
        "%%writefile /content/img/add_views.sql\n",
        "CREATE VIEW TEST_VIEW AS\n",
        "  SELECT * FROM TEST_TABLE;\n",
        "\n",
        "quit"
      ]
    },
    {
      "cell_type": "code",
      "execution_count": null,
      "metadata": {
        "colab": {
          "base_uri": "https://localhost:8080/"
        },
        "id": "UDjUNfVQkySu",
        "outputId": "b0eee812-53fb-4c69-d4c7-2d2a4988d3f1"
      },
      "outputs": [
        {
          "output_type": "stream",
          "name": "stdout",
          "text": [
            "Writing /content/img/select_objects.sql\n"
          ]
        }
      ],
      "source": [
        "%%writefile /content/img/select_objects.sql\n",
        "\n",
        "set colsep ,     -- separate columns with a comma\n",
        "set pagesize 0   -- No header rows\n",
        "set trimspool on -- remove trailing blanks\n",
        "set headsep off  -- this may or may not be useful...depends on your headings.\n",
        "set linesize 4096   -- X should be the sum of the column widths\n",
        "set numw 4096       -- X should be the length you want for numbers (avoid scientific notation on IDs)\n",
        "\n",
        "spool select.csv\n",
        "SELECT * FROM all_objects WHERE LOWER(OWNER)='john';\n",
        "spool off"
      ]
    },
    {
      "cell_type": "code",
      "source": [
        "!sudo ps -AF|grep createDB|grep -v root"
      ],
      "metadata": {
        "id": "DpoxeyxJjsUF",
        "outputId": "15bb2b2d-b6bc-43a2-a4c8-62dcc57c8229",
        "colab": {
          "base_uri": "https://localhost:8080/"
        }
      },
      "execution_count": null,
      "outputs": [
        {
          "output_type": "stream",
          "name": "stdout",
          "text": [
            "54321      33836   33812  0  3254  2556   1 06:21 ?        00:00:00 /bin/bash /opt/oracle/createDB.sh XE XEPDB1 pwd123456\n"
          ]
        }
      ]
    },
    {
      "cell_type": "code",
      "source": [
        "!sudo apt-get -y install net-tools && netstat -tulpen"
      ],
      "metadata": {
        "colab": {
          "base_uri": "https://localhost:8080/"
        },
        "id": "YCkrJf-QfCDa",
        "outputId": "0997c44b-81d7-417e-b7a8-87a93882b98d"
      },
      "execution_count": null,
      "outputs": [
        {
          "output_type": "stream",
          "name": "stdout",
          "text": [
            "Reading package lists... Done\n",
            "Building dependency tree       \n",
            "Reading state information... Done\n",
            "net-tools is already the newest version (1.60+git20180626.aebd88e-1ubuntu1).\n",
            "0 upgraded, 0 newly installed, 0 to remove and 31 not upgraded.\n",
            "Active Internet connections (only servers)\n",
            "Proto Recv-Q Send-Q Local Address           Foreign Address         State       User       Inode      PID/Program name    \n",
            "tcp        0      0 0.0.0.0:41415           0.0.0.0:*               LISTEN      54321      2625243    35105/xe_d000_XE    \n",
            "tcp        0      0 0.0.0.0:1521            0.0.0.0:*               LISTEN      54321      2577954    33920/tnslsnr       \n",
            "tcp        0      0 172.28.0.12:6000        0.0.0.0:*               LISTEN      0          19750      33/kernel_manager_p \n",
            "tcp        0      0 127.0.0.1:44559         0.0.0.0:*               LISTEN      0          2309100    25959/python3       \n",
            "tcp        0      0 127.0.0.1:3453          0.0.0.0:*               LISTEN      0          19976      62/python3          \n",
            "tcp        0      0 127.0.0.1:44119         0.0.0.0:*               LISTEN      0          2309015    25934/python3       \n",
            "tcp        0      0 172.28.0.12:9000        0.0.0.0:*               LISTEN      0          20267      79/python3          \n",
            "tcp        0      0 127.0.0.11:37681        0.0.0.0:*               LISTEN      0          18229      -                   \n",
            "tcp        0      0 127.0.0.1:46613         0.0.0.0:*               LISTEN      0          2309101    25959/python3       \n",
            "tcp6       0      0 :::8080                 :::*                    LISTEN      0          19970      7/node              \n",
            "udp        0      0 127.0.0.1:58788         0.0.0.0:*                           54321      2643463    35050/xe_dbw0_XE    \n",
            "udp        0      0 127.0.0.11:59051        0.0.0.0:*                           0          18228      -                   \n",
            "udp        0      0 127.0.0.1:53145         0.0.0.0:*                           54321      2625131    35067/xe_lreg_XE    \n",
            "udp        0      0 127.0.0.1:45674         0.0.0.0:*                           54321      2643444    35498/oracleXE      \n",
            "udp        0      0 127.0.0.1:46153         0.0.0.0:*                           54321      2625237    35105/xe_d000_XE    \n",
            "udp        0      0 127.0.0.1:40665         0.0.0.0:*                           54321      2625284    35109/xe_s000_XE    \n"
          ]
        }
      ]
    },
    {
      "cell_type": "markdown",
      "metadata": {
        "id": "_8tHi-98aIun"
      },
      "source": [
        "# Execute script files"
      ]
    },
    {
      "cell_type": "code",
      "execution_count": null,
      "metadata": {
        "colab": {
          "base_uri": "https://localhost:8080/"
        },
        "id": "UdDOvkIjnv9g",
        "outputId": "8f0e285e-6937-4d81-f40a-b150add00937"
      },
      "outputs": [
        {
          "output_type": "stream",
          "name": "stdout",
          "text": [
            "\n",
            "SQL*Plus: Release 21.0.0.0.0 - Production on Wed Jul 5 06:48:11 2023\n",
            "Version 21.3.0.0.0\n",
            "\n",
            "Copyright (c) 1982, 2021, Oracle.  All rights reserved.\n",
            "\n",
            "\n",
            "Connected to:\n",
            "Oracle Database 21c Express Edition Release 21.0.0.0.0 - Production\n",
            "Version 21.3.0.0.0\n",
            "\n",
            "\n",
            "       UID\n",
            "----------\n",
            "\t 0\n",
            "\n",
            "SQL> Disconnected from Oracle Database 21c Express Edition Release 21.0.0.0.0 - Production\n",
            "Version 21.3.0.0.0\n"
          ]
        },
        {
          "output_type": "stream",
          "name": "stderr",
          "text": [
            "bash: no job control in this shell\n",
            "bash-4.2# export ORACLE_HOME=/opt/oracle/product/21c/dbhomeXE\n",
            "bash-4.2# export PATH=$PATH:/opt/oracle/product/21c/dbhomeXE/bin/\n",
            "bash-4.2# export ORACLE_SID=XE\n",
            "bash-4.2# sqlplus sys/pwd123456@//127.0.0.1:1521/XE AS SYSDBA @script.sql\n",
            "bash-4.2# exit\n"
          ]
        }
      ],
      "source": [
        "%%bash\n",
        "sudo chroot img\n",
        "export ORACLE_HOME=/opt/oracle/product/21c/dbhomeXE\n",
        "export PATH=$PATH:/opt/oracle/product/21c/dbhomeXE/bin/\n",
        "export ORACLE_SID=XE\n",
        "sqlplus sys/pwd123456@//127.0.0.1:1521/XE AS SYSDBA @script.sql"
      ]
    },
    {
      "cell_type": "code",
      "execution_count": null,
      "metadata": {
        "colab": {
          "base_uri": "https://localhost:8080/"
        },
        "id": "sq7FnWvAVSX0",
        "outputId": "da22b4be-f989-4a8b-e311-3b8a6a66aa28"
      },
      "outputs": [
        {
          "output_type": "stream",
          "name": "stdout",
          "text": [
            "\n",
            "SQL*Plus: Release 21.0.0.0.0 - Production on Wed Jul 5 06:48:15 2023\n",
            "Version 21.3.0.0.0\n",
            "\n",
            "Copyright (c) 1982, 2021, Oracle.  All rights reserved.\n",
            "\n",
            "\n",
            "Connected to:\n",
            "Oracle Database 21c Express Edition Release 21.0.0.0.0 - Production\n",
            "Version 21.3.0.0.0\n",
            "\n",
            "\n",
            "User created.\n",
            "\n",
            "\n",
            "Grant succeeded.\n",
            "\n",
            "\n",
            "Grant succeeded.\n",
            "\n",
            "\n",
            "Grant succeeded.\n",
            "\n",
            "\n",
            "Grant succeeded.\n",
            "\n",
            "SQL> Disconnected from Oracle Database 21c Express Edition Release 21.0.0.0.0 - Production\n",
            "Version 21.3.0.0.0\n"
          ]
        },
        {
          "output_type": "stream",
          "name": "stderr",
          "text": [
            "bash: no job control in this shell\n",
            "bash-4.2# export ORACLE_HOME=/opt/oracle/product/21c/dbhomeXE\n",
            "bash-4.2# export PATH=$PATH:/opt/oracle/product/21c/dbhomeXE/bin/\n",
            "bash-4.2# export ORACLE_SID=XE\n",
            "bash-4.2# sqlplus sys/pwd123456@//localhost:1521/XEPDB1 AS SYSDBA @add_user.sql\n",
            "bash-4.2# exit\n"
          ]
        }
      ],
      "source": [
        "%%bash\n",
        "sudo chroot img\n",
        "export ORACLE_HOME=/opt/oracle/product/21c/dbhomeXE\n",
        "export PATH=$PATH:/opt/oracle/product/21c/dbhomeXE/bin/\n",
        "export ORACLE_SID=XE\n",
        "sqlplus sys/pwd123456@//localhost:1521/XEPDB1 AS SYSDBA @add_user.sql"
      ]
    },
    {
      "cell_type": "code",
      "execution_count": null,
      "metadata": {
        "colab": {
          "base_uri": "https://localhost:8080/"
        },
        "id": "bskQ62jgXpn-",
        "outputId": "496c23ec-2dca-43ab-ba93-52cea4fb70ce"
      },
      "outputs": [
        {
          "output_type": "stream",
          "name": "stdout",
          "text": [
            "\n",
            "SQL*Plus: Release 21.0.0.0.0 - Production on Wed Jul 5 06:48:20 2023\n",
            "Version 21.3.0.0.0\n",
            "\n",
            "Copyright (c) 1982, 2021, Oracle.  All rights reserved.\n",
            "\n",
            "\n",
            "Connected to:\n",
            "Oracle Database 21c Express Edition Release 21.0.0.0.0 - Production\n",
            "Version 21.3.0.0.0\n",
            "\n",
            "\n",
            "Package created.\n",
            "\n",
            "\n",
            "Package body created.\n",
            "\n",
            "Disconnected from Oracle Database 21c Express Edition Release 21.0.0.0.0 - Production\n",
            "Version 21.3.0.0.0\n",
            "\n",
            "SQL*Plus: Release 21.0.0.0.0 - Production on Wed Jul 5 06:48:21 2023\n",
            "Version 21.3.0.0.0\n",
            "\n",
            "Copyright (c) 1982, 2021, Oracle.  All rights reserved.\n",
            "\n",
            "Last Successful login time: Wed Jul 05 2023 06:48:21 +00:00\n",
            "\n",
            "Connected to:\n",
            "Oracle Database 21c Express Edition Release 21.0.0.0.0 - Production\n",
            "Version 21.3.0.0.0\n",
            "\n",
            "\n",
            "Table created.\n",
            "\n",
            "Disconnected from Oracle Database 21c Express Edition Release 21.0.0.0.0 - Production\n",
            "Version 21.3.0.0.0\n",
            "\n",
            "SQL*Plus: Release 21.0.0.0.0 - Production on Wed Jul 5 06:48:21 2023\n",
            "Version 21.3.0.0.0\n",
            "\n",
            "Copyright (c) 1982, 2021, Oracle.  All rights reserved.\n",
            "\n",
            "Last Successful login time: Wed Jul 05 2023 06:48:21 +00:00\n",
            "\n",
            "Connected to:\n",
            "Oracle Database 21c Express Edition Release 21.0.0.0.0 - Production\n",
            "Version 21.3.0.0.0\n",
            "\n",
            "\n",
            "View created.\n",
            "\n",
            "Disconnected from Oracle Database 21c Express Edition Release 21.0.0.0.0 - Production\n",
            "Version 21.3.0.0.0\n"
          ]
        },
        {
          "output_type": "stream",
          "name": "stderr",
          "text": [
            "bash: no job control in this shell\n",
            "bash-4.2# export ORACLE_HOME=/opt/oracle/product/21c/dbhomeXE\n",
            "bash-4.2# export PATH=$PATH:/opt/oracle/product/21c/dbhomeXE/bin/\n",
            "bash-4.2# export ORACLE_SID=XE\n",
            "bash-4.2# sqlplus john/pwd123456@//localhost:1521/XEPDB1 @add_packages.sql\n",
            "bash-4.2# sqlplus john/pwd123456@//localhost:1521/XEPDB1 @add_tables.sql\n",
            "bash-4.2# sqlplus john/pwd123456@//localhost:1521/XEPDB1 @add_views.sql\n",
            "bash-4.2# exit\n"
          ]
        }
      ],
      "source": [
        "%%bash\n",
        "chroot img\n",
        "export ORACLE_HOME=/opt/oracle/product/21c/dbhomeXE\n",
        "export PATH=$PATH:/opt/oracle/product/21c/dbhomeXE/bin/\n",
        "export ORACLE_SID=XE\n",
        "sqlplus john/pwd123456@//localhost:1521/XEPDB1 @add_packages.sql\n",
        "sqlplus john/pwd123456@//localhost:1521/XEPDB1 @add_tables.sql\n",
        "sqlplus john/pwd123456@//localhost:1521/XEPDB1 @add_views.sql"
      ]
    },
    {
      "cell_type": "code",
      "execution_count": null,
      "metadata": {
        "colab": {
          "base_uri": "https://localhost:8080/"
        },
        "id": "TIzYsDedk7AB",
        "outputId": "231db74e-9014-42e3-a164-b6e688621758"
      },
      "outputs": [
        {
          "output_type": "stream",
          "name": "stderr",
          "text": [
            "bash: no job control in this shell\n",
            "bash-4.2# export ORACLE_HOME=/opt/oracle/product/21c/dbhomeXE\n",
            "bash-4.2# export PATH=$PATH:/opt/oracle/product/21c/dbhomeXE/bin/\n",
            "bash-4.2# export ORACLE_SID=XE\n",
            "bash-4.2# sqlplus john/pwd123456@//localhost:1521/XEPDB1 @select_objects.sql 1>  \rselect_1.txt 2> select_2.txt\n",
            "bash-4.2# exit\n"
          ]
        }
      ],
      "source": [
        "%%bash\n",
        "chroot img\n",
        "export ORACLE_HOME=/opt/oracle/product/21c/dbhomeXE\n",
        "export PATH=$PATH:/opt/oracle/product/21c/dbhomeXE/bin/\n",
        "export ORACLE_SID=XE\n",
        "sqlplus john/pwd123456@//localhost:1521/XEPDB1 @select_objects.sql 1> select_1.txt 2> select_2.txt"
      ]
    },
    {
      "cell_type": "markdown",
      "metadata": {
        "id": "zaOiMBBmaIup"
      },
      "source": [
        "# Get source of git-remote-oracle"
      ]
    },
    {
      "cell_type": "code",
      "execution_count": null,
      "metadata": {
        "colab": {
          "base_uri": "https://localhost:8080/"
        },
        "id": "LsLoicUBSTja",
        "outputId": "115e2c68-39ae-4a4d-ebbe-f99e79e0d0c1"
      },
      "outputs": [
        {
          "output_type": "stream",
          "name": "stderr",
          "text": [
            "Cloning into 'git-remote-oracle'...\n"
          ]
        }
      ],
      "source": [
        "%%bash\n",
        "git clone https://github.com/TheCrazyT/git-remote-oracle"
      ]
    },
    {
      "cell_type": "code",
      "execution_count": null,
      "metadata": {
        "colab": {
          "base_uri": "https://localhost:8080/"
        },
        "id": "xdocc_JLTZcD",
        "outputId": "67939060-7b70-4ae6-a5f0-6ad98c99b23c"
      },
      "outputs": [
        {
          "output_type": "stream",
          "name": "stdout",
          "text": [
            "On branch main\n",
            "Your branch is up to date with 'origin/main'.\n",
            "\n",
            "nothing to commit, working tree clean\n",
            "Already up to date.\n"
          ]
        },
        {
          "output_type": "stream",
          "name": "stderr",
          "text": [
            "error: pathspec 'git-remote-oracle' did not match any file(s) known to git\n"
          ]
        }
      ],
      "source": [
        "%%bash\n",
        "cd git-remote-oracle\n",
        "git checkout git-remote-oracle\n",
        "git status\n",
        "git pull"
      ]
    },
    {
      "cell_type": "markdown",
      "metadata": {
        "id": "VZmLWcQDaIuq"
      },
      "source": [
        "# Install dependencies"
      ]
    },
    {
      "cell_type": "code",
      "execution_count": null,
      "metadata": {
        "colab": {
          "base_uri": "https://localhost:8080/"
        },
        "id": "HUdSZ4ddSztT",
        "outputId": "280784e4-01fd-40fa-f10e-686cf9375968"
      },
      "outputs": [
        {
          "output_type": "stream",
          "name": "stdout",
          "text": [
            "Collecting oracledb\n",
            "  Downloading oracledb-1.3.2-cp310-cp310-manylinux_2_17_x86_64.manylinux2014_x86_64.whl (7.6 MB)\n",
            "\u001b[2K     \u001b[90m━━━━━━━━━━━━━━━━━━━━━━━━━━━━━━━━━━━━━━━━\u001b[0m \u001b[32m7.6/7.6 MB\u001b[0m \u001b[31m30.1 MB/s\u001b[0m eta \u001b[36m0:00:00\u001b[0m\n",
            "\u001b[?25hRequirement already satisfied: pexpect in /usr/local/lib/python3.10/dist-packages (4.8.0)\n",
            "Collecting cryptography>=3.2.1 (from oracledb)\n",
            "  Downloading cryptography-41.0.1-cp37-abi3-manylinux_2_28_x86_64.whl (4.3 MB)\n",
            "\u001b[2K     \u001b[90m━━━━━━━━━━━━━━━━━━━━━━━━━━━━━━━━━━━━━━━━\u001b[0m \u001b[32m4.3/4.3 MB\u001b[0m \u001b[31m39.0 MB/s\u001b[0m eta \u001b[36m0:00:00\u001b[0m\n",
            "\u001b[?25hRequirement already satisfied: ptyprocess>=0.5 in /usr/local/lib/python3.10/dist-packages (from pexpect) (0.7.0)\n",
            "Requirement already satisfied: cffi>=1.12 in /usr/local/lib/python3.10/dist-packages (from cryptography>=3.2.1->oracledb) (1.15.1)\n",
            "Requirement already satisfied: pycparser in /usr/local/lib/python3.10/dist-packages (from cffi>=1.12->cryptography>=3.2.1->oracledb) (2.21)\n",
            "Installing collected packages: cryptography, oracledb\n",
            "Successfully installed cryptography-41.0.1 oracledb-1.3.2\n"
          ]
        }
      ],
      "source": [
        "!pip install oracledb pexpect"
      ]
    },
    {
      "cell_type": "markdown",
      "metadata": {
        "id": "gNmrI5VyaIur"
      },
      "source": [
        "# Test git clone"
      ]
    },
    {
      "cell_type": "code",
      "execution_count": null,
      "metadata": {
        "colab": {
          "base_uri": "https://localhost:8080/"
        },
        "id": "vEw3UMjiSY86",
        "outputId": "7f1eb46c-e28e-44cf-d5b8-1d2084b09363"
      },
      "outputs": [
        {
          "output_type": "stream",
          "name": "stderr",
          "text": [
            "Cloning into 'JOHN'...\n",
            "START\n",
            "['/content/git-remote-oracle/src/git_remote_oracle/git_remote_oracle.py', 'origin', 'oracle://127.0.0.1:1521/XEPDB1/JOHN']\n",
            "oracle://127.0.0.1:1521/XEPDB1/JOHN\n",
            "host_and_path: 127.0.0.1:1521/XEPDB1/JOHN\n",
            "host_and_port: 127.0.0.1:1521\n",
            "host: 127.0.0.1\n",
            "port: 1521\n",
            "service_and_schema: XEPDB1/JOHN\n",
            "service: XEPDB1\n",
            "schema: JOHN\n",
            "expected 'Username for' End Of File (EOF). Exception style platform.\n",
            "<pexpect.pty_spawn.spawn object at 0x7fb58d6ebd30>\n",
            "command: /usr/lib/git-core/git\n",
            "args: ['/usr/lib/git-core/git', 'credential', 'fill']\n",
            "buffer (last 100 chars): b''\n",
            "before (last 100 chars): b'protocol=oracle\\r\\nhost=127.0.0.1\\r\\nusername=john\\r\\npassword=pwd123456\\r\\n'\n",
            "after: <class 'pexpect.exceptions.EOF'>\n",
            "match: None\n",
            "match_index: None\n",
            "exitstatus: 0\n",
            "flag_eof: True\n",
            "pid: 44099\n",
            "child_fd: 5\n",
            "closed: False\n",
            "timeout: 30\n",
            "delimiter: <class 'pexpect.exceptions.EOF'>\n",
            "logfile: None\n",
            "logfile_read: None\n",
            "logfile_send: None\n",
            "maxread: 2000\n",
            "ignorecase: False\n",
            "searchwindowsize: None\n",
            "delaybeforesend: 0.05\n",
            "delayafterclose: 0.1\n",
            "delayafterterminate: 0.1\n",
            "searcher: searcher_re:\n",
            "    0: re.compile(b'Username for .*')\n",
            "prop: -->protocol=oracle\r\n",
            "host=127.0.0.1\r\n",
            "username=john\r\n",
            "password=pwd123456\r\n",
            "<--\n",
            "config: <configparser.ConfigParser object at 0x7fb58bfcd540>\n",
            "config: <configparser.ConfigParser object at 0x7fb58bfcd540>\n",
            "cmd: capabilities\n",
            "in func: cmd_capabilities\n",
            "import\n",
            "export\n",
            "refspec refs/heads/*:refs/heads/*\n",
            "\n",
            "cmd: list\n",
            "in func: cmd_list\n",
            ":object-format sha1\n",
            "? refs/heads/main\n",
            "@refs/heads/main HEAD\n",
            "\n",
            "cmd: import refs/heads/main\n",
            "in func: cmd_import\n",
            "  import refs/heads/main\n",
            "\n",
            "reset refs/heads/main\n",
            "connected\n",
            "GIT_DIR: /content/JOHN/.git\n",
            "last_ddl_path: /content/JOHN/last_ddl\n",
            "last_ddl_time: 1900-01-01 00:00:00\n",
            "qry: \n",
            "    SELECT \n",
            "      object_id,\n",
            "      object_name,\n",
            "      owner,\n",
            "      object_type,\n",
            "      DBMS_METADATA.GET_DDL(REPLACE(DECODE(\n",
            "\t\t\t\t\t\t\tobject_type,\n",
            "\t\t\t\t\t\t\t'PACKAGE','PACKAGE SPEC',\n",
            "\t\t\t\t\t\t\t'TYPE','TYPE SPEC',\n",
            "\t\t\t\t\t\t\t'JOB','PROCOBJ',\n",
            "\t\t\t\t\t\t\tobject_type \n",
            "\t\t\t\t\t\t),' ','_'), object_name, UPPER(:2)) AS DDL\n",
            "    FROM all_objects\n",
            "    WHERE \n",
            "      lower(owner) = lower(:1)\n",
            "      AND object_type IN (\n",
            "        'PACKAGE',\n",
            "        'PACKAGE BODY',\n",
            "        'TRIGGER',\n",
            "        'VIEW',\n",
            "        'TABLE',\n",
            "        'PROCEDURE',\n",
            "        'FUNCTION',\n",
            "        'INDEX',\n",
            "        'TYPE',\n",
            "        'TYPE BODY',\n",
            "        'SYNONYM',\n",
            "        'JOB',\n",
            "        'JAVA SOURCE',\n",
            "        'JAVA RESOURCE'\n",
            "      )\n",
            "      AND sharing <> 'METADATA LINK'\n",
            "      AND last_ddl_time > :3\n",
            "      AND generated = 'N'\n",
            "      AND temporary = 'N'\n",
            "      AND oracle_maintained = 'N'\n",
            "    ORDER BY object_id\n",
            "    \n",
            "object_name: TEST\n",
            "blob\n",
            "mark :75742\n",
            "data 90\n",
            "\n",
            "  CREATE OR REPLACE EDITIONABLE PACKAGE \"JOHN\".\"TEST\" AS\n",
            "  PROCEDURE test_proc;\n",
            "END test;\n",
            "object_name: TEST\n",
            "blob\n",
            "mark :75743\n",
            "data 122\n",
            "\n",
            "  CREATE OR REPLACE EDITIONABLE PACKAGE BODY \"JOHN\".\"TEST\" AS\n",
            "  PROCEDURE test_proc AS\n",
            "  BEGIN\n",
            "    NULL;\n",
            "  END;\n",
            "END test;\n",
            "object_name: TEST_TABLE\n",
            "blob\n",
            "mark :75744\n",
            "data 189\n",
            "\n",
            "  CREATE TABLE \"JOHN\".\"TEST_TABLE\" \n",
            "   (\t\"TEST_COL\" VARCHAR2(255)\n",
            "   ) SEGMENT CREATION DEFERRED \n",
            "  PCTFREE 10 PCTUSED 40 INITRANS 1 MAXTRANS 255 \n",
            " NOCOMPRESS LOGGING\n",
            "  TABLESPACE \"USERS\" \n",
            "object_name: TEST_VIEW\n",
            "blob\n",
            "mark :75745\n",
            "data 115\n",
            "\n",
            "  CREATE OR REPLACE FORCE EDITIONABLE VIEW \"JOHN\".\"TEST_VIEW\" (\"TEST_COL\") AS \n",
            "  SELECT \"TEST_COL\" FROM TEST_TABLE\n",
            "blob\n",
            "mark :1\n",
            "data 19\n",
            "05.07.2023 06:49:18\n",
            "commit refs/heads/main\n",
            "committer <notexisting@notexisting.com> 1688539758 +0000\n",
            "data 21\n",
            "> 05.07.2023 06:49:18\n",
            "id: HEAD\n",
            "M 100644 :75742 PACKAGE/TEST.sql\n",
            "M 100644 :75743 PACKAGE BODY/TEST.sql\n",
            "M 100644 :75744 TABLE/TEST_TABLE.sql\n",
            "M 100644 :75745 VIEW/TEST_VIEW.sql\n",
            "M 100644 :1 last_ddl\n",
            "\n",
            "done\n",
            "\n",
            "end\n"
          ]
        }
      ],
      "source": [
        "%%bash\n",
        "export PATH=$PATH:$(pwd)/git-remote-oracle/src/git_remote_oracle\n",
        "export GR_ORACLE_DEBUG=1\n",
        "export GR_ORACLE_DEBUG_GIT=1\n",
        "\n",
        "export REL_PATH=$(pwd)/git-remote-oracle/src/git_remote_oracle\n",
        "\n",
        "echo \"#!/bin/bash\" > $(pwd)/git-remote-oracle/src/git_remote_oracle/git-remote-oracle\n",
        "echo python3 $(pwd)'/git-remote-oracle/src/git_remote_oracle/git_remote_oracle.py $@' >> $(pwd)/git-remote-oracle/src/git_remote_oracle/git-remote-oracle\n",
        "\n",
        "chmod +x ${REL_PATH}/git_remote_oracle.py\n",
        "chmod +x ${REL_PATH}/git-remote-oracle\n",
        "\n",
        "rm -Rf JOHN 2>/dev/null\n",
        "\n",
        "git config --global credential.helper store\n",
        "echo -e \"protocol=oracle\\nhost=127.0.0.1\\nusername=john\\npassword=pwd123456\"|git credential approve\n",
        "git clone oracle://127.0.0.1:1521/XEPDB1/JOHN"
      ]
    },
    {
      "cell_type": "markdown",
      "metadata": {
        "id": "YzcmUKcTaIur"
      },
      "source": [
        "# Test git pull"
      ]
    },
    {
      "cell_type": "code",
      "execution_count": null,
      "metadata": {
        "colab": {
          "base_uri": "https://localhost:8080/"
        },
        "id": "jRoPuqXSaIur",
        "outputId": "81dd50ee-6365-4929-b114-6c737031520b"
      },
      "outputs": [
        {
          "output_type": "stream",
          "name": "stdout",
          "text": [
            "Already up to date.\n"
          ]
        },
        {
          "output_type": "stream",
          "name": "stderr",
          "text": [
            "START\n",
            "['/content/git-remote-oracle/src/git_remote_oracle/git_remote_oracle.py', 'origin', 'oracle://127.0.0.1:1521/XEPDB1/JOHN']\n",
            "oracle://127.0.0.1:1521/XEPDB1/JOHN\n",
            "host_and_path: 127.0.0.1:1521/XEPDB1/JOHN\n",
            "host_and_port: 127.0.0.1:1521\n",
            "host: 127.0.0.1\n",
            "port: 1521\n",
            "service_and_schema: XEPDB1/JOHN\n",
            "service: XEPDB1\n",
            "schema: JOHN\n",
            "expected 'Username for' End Of File (EOF). Exception style platform.\n",
            "<pexpect.pty_spawn.spawn object at 0x7f4ce053fd90>\n",
            "command: /usr/lib/git-core/git\n",
            "args: ['/usr/lib/git-core/git', 'credential', 'fill']\n",
            "buffer (last 100 chars): b''\n",
            "before (last 100 chars): b'protocol=oracle\\r\\nhost=127.0.0.1\\r\\nusername=john\\r\\npassword=pwd123456\\r\\n'\n",
            "after: <class 'pexpect.exceptions.EOF'>\n",
            "match: None\n",
            "match_index: None\n",
            "exitstatus: 0\n",
            "flag_eof: True\n",
            "pid: 44259\n",
            "child_fd: 5\n",
            "closed: False\n",
            "timeout: 30\n",
            "delimiter: <class 'pexpect.exceptions.EOF'>\n",
            "logfile: None\n",
            "logfile_read: None\n",
            "logfile_send: None\n",
            "maxread: 2000\n",
            "ignorecase: False\n",
            "searchwindowsize: None\n",
            "delaybeforesend: 0.05\n",
            "delayafterclose: 0.1\n",
            "delayafterterminate: 0.1\n",
            "searcher: searcher_re:\n",
            "    0: re.compile(b'Username for .*')\n",
            "prop: -->protocol=oracle\r\n",
            "host=127.0.0.1\r\n",
            "username=john\r\n",
            "password=pwd123456\r\n",
            "<--\n",
            "config: <configparser.ConfigParser object at 0x7f4cdee215a0>\n",
            "config: <configparser.ConfigParser object at 0x7f4cdee215a0>\n",
            "cmd: capabilities\n",
            "in func: cmd_capabilities\n",
            "import\n",
            "export\n",
            "refspec refs/heads/*:refs/heads/*\n",
            "\n",
            "cmd: list\n",
            "in func: cmd_list\n",
            ":object-format sha1\n",
            "? refs/heads/main\n",
            "@refs/heads/main HEAD\n",
            "\n",
            "cmd: import refs/heads/main\n",
            "in func: cmd_import\n",
            "reset refs/heads/main\n",
            "connected\n",
            "GIT_DIR: .git\n",
            "last_ddl_path: /content/JOHN/last_ddl\n",
            "last_ddl_time: 2023-07-05 06:49:18\n",
            "qry: \n",
            "    SELECT \n",
            "      object_id,\n",
            "      object_name,\n",
            "      owner,\n",
            "      object_type,\n",
            "      DBMS_METADATA.GET_DDL(REPLACE(DECODE(\n",
            "\t\t\t\t\t\t\tobject_type,\n",
            "\t\t\t\t\t\t\t'PACKAGE','PACKAGE SPEC',\n",
            "\t\t\t\t\t\t\t'TYPE','TYPE SPEC',\n",
            "\t\t\t\t\t\t\t'JOB','PROCOBJ',\n",
            "\t\t\t\t\t\t\tobject_type \n",
            "\t\t\t\t\t\t),' ','_'), object_name, UPPER(:2)) AS DDL\n",
            "    FROM all_objects\n",
            "    WHERE \n",
            "      lower(owner) = lower(:1)\n",
            "      AND object_type IN (\n",
            "        'PACKAGE',\n",
            "        'PACKAGE BODY',\n",
            "        'TRIGGER',\n",
            "        'VIEW',\n",
            "        'TABLE',\n",
            "        'PROCEDURE',\n",
            "        'FUNCTION',\n",
            "        'INDEX',\n",
            "        'TYPE',\n",
            "        'TYPE BODY',\n",
            "        'SYNONYM',\n",
            "        'JOB',\n",
            "        'JAVA SOURCE',\n",
            "        'JAVA RESOURCE'\n",
            "      )\n",
            "      AND sharing <> 'METADATA LINK'\n",
            "      AND last_ddl_time > :3\n",
            "      AND generated = 'N'\n",
            "      AND temporary = 'N'\n",
            "      AND oracle_maintained = 'N'\n",
            "    ORDER BY object_id\n",
            "    \n",
            "blob\n",
            "mark :1\n",
            "data 19\n",
            "05.07.2023 06:49:38\n",
            "commit refs/heads/main\n",
            "committer <notexisting@notexisting.com> 1688539779 +0000\n",
            "data 45\n",
            "> 05.07.2023 06:49:38, <= 05.07.2023 06:49:18\n",
            "id: 193545f87026f7860f30c05ce8530736997706cf\n",
            "from 193545f87026f7860f30c05ce8530736997706cf\n",
            "M 100644 :1 last_ddl\n",
            "\n",
            "done\n",
            "\n",
            "end\n",
            "From oracle://127.0.0.1:1521/XEPDB1/JOHN\n",
            "   193545f..3f968f3  main       -> origin/main\n",
            "warning: fetch updated the current branch head.\n",
            "fast-forwarding your working tree from\n",
            "commit 193545f87026f7860f30c05ce8530736997706cf.\n"
          ]
        }
      ],
      "source": [
        "%%bash\n",
        "export PATH=$PATH:$(pwd)/git-remote-oracle/src/git_remote_oracle\n",
        "export GR_ORACLE_DEBUG=1\n",
        "export GR_ORACLE_DEBUG_GIT=1\n",
        "\n",
        "cd JOHN\n",
        "git pull"
      ]
    },
    {
      "cell_type": "markdown",
      "metadata": {
        "id": "W7n88JVNaIus"
      },
      "source": [
        "# List files"
      ]
    },
    {
      "cell_type": "code",
      "execution_count": null,
      "metadata": {
        "colab": {
          "base_uri": "https://localhost:8080/"
        },
        "id": "X7NMv46YXCT6",
        "outputId": "7f5dfea4-149c-45be-c945-3f865e00f322"
      },
      "outputs": [
        {
          "output_type": "stream",
          "name": "stdout",
          "text": [
            "total 32K\n",
            "drwxr-xr-x 7 root root 4.0K Jul  5 06:49  .\n",
            "drwxr-xr-x 1 root root 4.0K Jul  5 06:49  ..\n",
            "drwxr-xr-x 8 root root 4.0K Jul  5 06:49  .git\n",
            "-rw-r--r-- 1 root root   19 Jul  5 06:49  last_ddl\n",
            "drwxr-xr-x 2 root root 4.0K Jul  5 06:49  PACKAGE\n",
            "drwxr-xr-x 2 root root 4.0K Jul  5 06:49 'PACKAGE BODY'\n",
            "drwxr-xr-x 2 root root 4.0K Jul  5 06:49  TABLE\n",
            "drwxr-xr-x 2 root root 4.0K Jul  5 06:49  VIEW\n",
            "total 12K\n",
            "drwxr-xr-x 2 root root 4.0K Jul  5 06:49 .\n",
            "drwxr-xr-x 7 root root 4.0K Jul  5 06:49 ..\n",
            "-rw-r--r-- 1 root root   90 Jul  5 06:49 TEST.sql\n"
          ]
        }
      ],
      "source": [
        "!ls -lah JOHN\n",
        "!ls -lah JOHN/PACKAGE"
      ]
    },
    {
      "cell_type": "markdown",
      "metadata": {
        "id": "cpQR7cWhaIus"
      },
      "source": [
        "# Stop oracle"
      ]
    },
    {
      "cell_type": "code",
      "execution_count": null,
      "metadata": {
        "id": "uSRD9g11MYnC",
        "colab": {
          "base_uri": "https://localhost:8080/"
        },
        "outputId": "342a74b5-8acd-419e-ba2b-bcdac2ce18f4"
      },
      "outputs": [
        {
          "output_type": "stream",
          "name": "stdout",
          "text": [
            "All background processes were killed.\n"
          ]
        }
      ],
      "source": [
        "%killbgscripts"
      ]
    }
  ],
  "metadata": {
    "colab": {
      "provenance": []
    },
    "kernelspec": {
      "display_name": "Python 3 (ipykernel)",
      "language": "python",
      "name": "python3"
    },
    "language_info": {
      "codemirror_mode": {
        "name": "ipython",
        "version": 3
      },
      "file_extension": ".py",
      "mimetype": "text/x-python",
      "name": "python",
      "nbconvert_exporter": "python",
      "pygments_lexer": "ipython3",
      "version": "3.11.4"
    }
  },
  "nbformat": 4,
  "nbformat_minor": 0
}