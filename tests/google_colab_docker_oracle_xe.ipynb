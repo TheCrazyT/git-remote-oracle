{
  "cells": [
    {
      "attachments": {},
      "cell_type": "markdown",
      "metadata": {},
      "source": [
        "# Initialize docker for google colab"
      ]
    },
    {
      "cell_type": "code",
      "execution_count": 7,
      "metadata": {
        "colab": {
          "base_uri": "https://localhost:8080/"
        },
        "id": "YKXFVjUuZzpO",
        "outputId": "0ad0d1ac-2c89-44d1-fc99-419fbc14d871"
      },
      "outputs": [
        {
          "name": "stdout",
          "output_type": "stream",
          "text": [
            "Hit:1 http://security.ubuntu.com/ubuntu jammy-security InRelease\n",
            "Get:2 https://download.docker.com/linux/ubuntu jammy InRelease [48.9 kB]\n",
            "Hit:3 http://archive.ubuntu.com/ubuntu jammy InRelease\n",
            "Hit:4 http://archive.ubuntu.com/ubuntu jammy-updates InRelease\n",
            "Err:2 https://download.docker.com/linux/ubuntu jammy InRelease\n",
            "  The following signatures couldn't be verified because the public key is not available: NO_PUBKEY 7EA0A9C3F273FCD8\n",
            "Hit:5 http://archive.ubuntu.com/ubuntu jammy-backports InRelease\n",
            "Reading package lists...\n"
          ]
        },
        {
          "name": "stderr",
          "output_type": "stream",
          "text": [
            "W: GPG error: https://download.docker.com/linux/ubuntu jammy InRelease: The following signatures couldn't be verified because the public key is not available: NO_PUBKEY 7EA0A9C3F273FCD8\n",
            "E: The repository 'https://download.docker.com/linux/ubuntu jammy InRelease' is not signed.\n"
          ]
        },
        {
          "name": "stdout",
          "output_type": "stream",
          "text": [
            "Reading package lists...\n",
            "Building dependency tree...\n",
            "Reading state information...\n",
            "ca-certificates is already the newest version (20230311ubuntu0.22.04.1).\n",
            "curl is already the newest version (7.81.0-1ubuntu1.10).\n",
            "The following additional packages will be installed:\n",
            "  dirmngr gnupg-l10n gnupg-utils gpg gpg-agent gpg-wks-client gpg-wks-server\n",
            "  gpgconf gpgsm libassuan0 libksba8 libnpth0 pinentry-curses\n",
            "Suggested packages:\n",
            "  dbus-user-session libpam-systemd pinentry-gnome3 tor parcimonie xloadimage\n",
            "  scdaemon pinentry-doc\n",
            "The following NEW packages will be installed:\n",
            "  dirmngr gnupg gnupg-l10n gnupg-utils gpg gpg-agent gpg-wks-client\n",
            "  gpg-wks-server gpgconf gpgsm libassuan0 libksba8 libnpth0 pinentry-curses\n",
            "0 upgraded, 14 newly installed, 0 to remove and 0 not upgraded.\n",
            "Need to get 2,309 kB of archives.\n",
            "After this operation, 5,837 kB of additional disk space will be used.\n",
            "Get:1 http://archive.ubuntu.com/ubuntu jammy/main amd64 libassuan0 amd64 2.5.5-1build1 [38.2 kB]\n",
            "Get:2 http://archive.ubuntu.com/ubuntu jammy-updates/main amd64 gpgconf amd64 2.2.27-3ubuntu2.1 [94.2 kB]\n",
            "Get:3 http://archive.ubuntu.com/ubuntu jammy-updates/main amd64 libksba8 amd64 1.6.0-2ubuntu0.2 [119 kB]\n",
            "Get:4 http://archive.ubuntu.com/ubuntu jammy/main amd64 libnpth0 amd64 1.6-3build2 [8,664 B]\n",
            "Get:5 http://archive.ubuntu.com/ubuntu jammy-updates/main amd64 dirmngr amd64 2.2.27-3ubuntu2.1 [293 kB]\n",
            "Get:6 http://archive.ubuntu.com/ubuntu jammy-updates/main amd64 gnupg-l10n all 2.2.27-3ubuntu2.1 [54.4 kB]\n",
            "Get:7 http://archive.ubuntu.com/ubuntu jammy-updates/main amd64 gnupg-utils amd64 2.2.27-3ubuntu2.1 [308 kB]\n",
            "Get:8 http://archive.ubuntu.com/ubuntu jammy-updates/main amd64 gpg amd64 2.2.27-3ubuntu2.1 [519 kB]\n",
            "Get:9 http://archive.ubuntu.com/ubuntu jammy/main amd64 pinentry-curses amd64 1.1.1-1build2 [34.4 kB]\n",
            "Get:10 http://archive.ubuntu.com/ubuntu jammy-updates/main amd64 gpg-agent amd64 2.2.27-3ubuntu2.1 [209 kB]\n",
            "Get:11 http://archive.ubuntu.com/ubuntu jammy-updates/main amd64 gpg-wks-client amd64 2.2.27-3ubuntu2.1 [62.7 kB]\n",
            "Get:12 http://archive.ubuntu.com/ubuntu jammy-updates/main amd64 gpg-wks-server amd64 2.2.27-3ubuntu2.1 [57.5 kB]\n",
            "Get:13 http://archive.ubuntu.com/ubuntu jammy-updates/main amd64 gpgsm amd64 2.2.27-3ubuntu2.1 [197 kB]\n",
            "Get:14 http://archive.ubuntu.com/ubuntu jammy-updates/main amd64 gnupg all 2.2.27-3ubuntu2.1 [315 kB]\n"
          ]
        },
        {
          "name": "stderr",
          "output_type": "stream",
          "text": [
            "debconf: delaying package configuration, since apt-utils is not installed\n"
          ]
        },
        {
          "name": "stdout",
          "output_type": "stream",
          "text": [
            "Fetched 2,309 kB in 25s (93.3 kB/s)\n",
            "Selecting previously unselected package libassuan0:amd64.\n",
            "(Reading database ... 43028 files and directories currently installed.)\n",
            "Preparing to unpack .../00-libassuan0_2.5.5-1build1_amd64.deb ...\n",
            "Unpacking libassuan0:amd64 (2.5.5-1build1) ...\n",
            "Selecting previously unselected package gpgconf.\n",
            "Preparing to unpack .../01-gpgconf_2.2.27-3ubuntu2.1_amd64.deb ...\n",
            "Unpacking gpgconf (2.2.27-3ubuntu2.1) ...\n",
            "Selecting previously unselected package libksba8:amd64.\n",
            "Preparing to unpack .../02-libksba8_1.6.0-2ubuntu0.2_amd64.deb ...\n",
            "Unpacking libksba8:amd64 (1.6.0-2ubuntu0.2) ...\n",
            "Selecting previously unselected package libnpth0:amd64.\n",
            "Preparing to unpack .../03-libnpth0_1.6-3build2_amd64.deb ...\n",
            "Unpacking libnpth0:amd64 (1.6-3build2) ...\n",
            "Selecting previously unselected package dirmngr.\n",
            "Preparing to unpack .../04-dirmngr_2.2.27-3ubuntu2.1_amd64.deb ...\n",
            "Unpacking dirmngr (2.2.27-3ubuntu2.1) ...\n",
            "Selecting previously unselected package gnupg-l10n.\n",
            "Preparing to unpack .../05-gnupg-l10n_2.2.27-3ubuntu2.1_all.deb ...\n",
            "Unpacking gnupg-l10n (2.2.27-3ubuntu2.1) ...\n",
            "Selecting previously unselected package gnupg-utils.\n",
            "Preparing to unpack .../06-gnupg-utils_2.2.27-3ubuntu2.1_amd64.deb ...\n",
            "Unpacking gnupg-utils (2.2.27-3ubuntu2.1) ...\n",
            "Selecting previously unselected package gpg.\n",
            "Preparing to unpack .../07-gpg_2.2.27-3ubuntu2.1_amd64.deb ...\n",
            "Unpacking gpg (2.2.27-3ubuntu2.1) ...\n",
            "Selecting previously unselected package pinentry-curses.\n",
            "Preparing to unpack .../08-pinentry-curses_1.1.1-1build2_amd64.deb ...\n",
            "Unpacking pinentry-curses (1.1.1-1build2) ...\n",
            "Selecting previously unselected package gpg-agent.\n",
            "Preparing to unpack .../09-gpg-agent_2.2.27-3ubuntu2.1_amd64.deb ...\n",
            "Unpacking gpg-agent (2.2.27-3ubuntu2.1) ...\n",
            "Selecting previously unselected package gpg-wks-client.\n",
            "Preparing to unpack .../10-gpg-wks-client_2.2.27-3ubuntu2.1_amd64.deb ...\n",
            "Unpacking gpg-wks-client (2.2.27-3ubuntu2.1) ...\n",
            "Selecting previously unselected package gpg-wks-server.\n",
            "Preparing to unpack .../11-gpg-wks-server_2.2.27-3ubuntu2.1_amd64.deb ...\n",
            "Unpacking gpg-wks-server (2.2.27-3ubuntu2.1) ...\n",
            "Selecting previously unselected package gpgsm.\n",
            "Preparing to unpack .../12-gpgsm_2.2.27-3ubuntu2.1_amd64.deb ...\n",
            "Unpacking gpgsm (2.2.27-3ubuntu2.1) ...\n",
            "Selecting previously unselected package gnupg.\n",
            "Preparing to unpack .../13-gnupg_2.2.27-3ubuntu2.1_all.deb ...\n",
            "Unpacking gnupg (2.2.27-3ubuntu2.1) ...\n",
            "Setting up libksba8:amd64 (1.6.0-2ubuntu0.2) ...\n",
            "Setting up libnpth0:amd64 (1.6-3build2) ...\n",
            "Setting up libassuan0:amd64 (2.5.5-1build1) ...\n",
            "Setting up gnupg-l10n (2.2.27-3ubuntu2.1) ...\n",
            "Setting up gpgconf (2.2.27-3ubuntu2.1) ...\n",
            "Setting up gpg (2.2.27-3ubuntu2.1) ...\n",
            "Setting up gnupg-utils (2.2.27-3ubuntu2.1) ...\n",
            "Setting up pinentry-curses (1.1.1-1build2) ...\n",
            "Setting up gpg-agent (2.2.27-3ubuntu2.1) ...\n",
            "Setting up gpgsm (2.2.27-3ubuntu2.1) ...\n",
            "Setting up dirmngr (2.2.27-3ubuntu2.1) ...\n",
            "Setting up gpg-wks-server (2.2.27-3ubuntu2.1) ...\n",
            "Setting up gpg-wks-client (2.2.27-3ubuntu2.1) ...\n",
            "Setting up gnupg (2.2.27-3ubuntu2.1) ...\n",
            "Processing triggers for libc-bin (2.35-0ubuntu3.1) ...\n"
          ]
        },
        {
          "name": "stderr",
          "output_type": "stream",
          "text": [
            "chmod: changing permissions of '/etc/apt/keyrings/docker.gpg': Operation not permitted\n"
          ]
        }
      ],
      "source": [
        "%%bash\n",
        "sudo apt-get update\n",
        "sudo apt-get install -y ca-certificates curl gnupg\n",
        "install -m 0755 -d /etc/apt/keyrings\n",
        "curl -fsSL https://download.docker.com/linux/ubuntu/gpg | sudo gpg --dearmor -o /etc/apt/keyrings/docker.gpg\n",
        "chmod a+r /etc/apt/keyrings/docker.gpg\n",
        "echo \\\n",
        "  \"deb [arch=\"$(dpkg --print-architecture)\" signed-by=/etc/apt/keyrings/docker.gpg] https://download.docker.com/linux/ubuntu \\\n",
        "  \"$(. /etc/os-release && echo \"$VERSION_CODENAME\")\" stable\" | \\\n",
        "  sudo tee /etc/apt/sources.list.d/docker.list > /dev/null"
      ]
    },
    {
      "cell_type": "code",
      "execution_count": 11,
      "metadata": {
        "colab": {
          "base_uri": "https://localhost:8080/"
        },
        "id": "ZSLTeGIgZj-l",
        "outputId": "a23eb305-80c5-43a3-9e5b-005610ab0a08"
      },
      "outputs": [
        {
          "name": "stderr",
          "output_type": "stream",
          "text": [
            "\n",
            "WARNING: apt does not have a stable CLI interface. Use with caution in scripts.\n",
            "\n"
          ]
        },
        {
          "name": "stdout",
          "output_type": "stream",
          "text": [
            "Hit:1 http://archive.ubuntu.com/ubuntu jammy InRelease\n",
            "Hit:2 http://security.ubuntu.com/ubuntu jammy-security InRelease\n",
            "Hit:3 https://download.docker.com/linux/ubuntu jammy InRelease\n",
            "Hit:4 http://archive.ubuntu.com/ubuntu jammy-updates InRelease\n",
            "Hit:5 http://archive.ubuntu.com/ubuntu jammy-backports InRelease\n",
            "Reading package lists...\n",
            "Building dependency tree...\n",
            "Reading state information...\n",
            "All packages are up to date.\n",
            "Reading package lists...\n",
            "Building dependency tree...\n",
            "Reading state information...\n",
            "The following additional packages will be installed:\n",
            "  apparmor dbus dbus-user-session dmsetup docker-ce-rootless-extras\n",
            "  gir1.2-glib-2.0 iptables libapparmor1 libargon2-1 libcryptsetup12\n",
            "  libdbus-1-3 libdevmapper1.02.1 libgirepository-1.0-1 libip4tc2 libip6tc2\n",
            "  libjson-c5 libkmod2 libltdl7 libmnl0 libnetfilter-conntrack3 libnfnetlink0\n",
            "  libnftnl11 libnss-systemd libpam-systemd libslirp0 libxtables12 netbase\n",
            "  networkd-dispatcher pigz python3-dbus python3-gi slirp4netns systemd\n",
            "  systemd-sysv systemd-timesyncd xz-utils\n",
            "Suggested packages:\n",
            "  apparmor-profiles-extra apparmor-utils aufs-tools cgroupfs-mount\n",
            "  | cgroup-lite firewalld kmod nftables iw | wireless-tools python-dbus-doc\n",
            "  systemd-container libtss2-esys-3.0.2-0 libtss2-mu0 libtss2-rc0 policykit-1\n",
            "The following NEW packages will be installed:\n",
            "  apparmor containerd.io dbus dbus-user-session dmsetup docker-buildx-plugin\n",
            "  docker-ce docker-ce-cli docker-ce-rootless-extras docker-compose-plugin\n",
            "  gir1.2-glib-2.0 iptables libapparmor1 libargon2-1 libcryptsetup12\n",
            "  libdbus-1-3 libdevmapper1.02.1 libgirepository-1.0-1 libip4tc2 libip6tc2\n",
            "  libjson-c5 libkmod2 libltdl7 libmnl0 libnetfilter-conntrack3 libnfnetlink0\n",
            "  libnftnl11 libnss-systemd libpam-systemd libslirp0 libxtables12 netbase\n",
            "  networkd-dispatcher pigz python3-dbus python3-gi slirp4netns systemd\n",
            "  systemd-sysv systemd-timesyncd xz-utils\n",
            "0 upgraded, 41 newly installed, 0 to remove and 0 not upgraded.\n",
            "Need to get 118 MB of archives.\n",
            "After this operation, 432 MB of additional disk space will be used.\n",
            "Get:1 https://download.docker.com/linux/ubuntu jammy/stable amd64 containerd.io amd64 1.6.21-1 [28.3 MB]\n",
            "Get:2 http://archive.ubuntu.com/ubuntu jammy-updates/main amd64 libapparmor1 amd64 3.0.4-2ubuntu2.2 [39.2 kB]\n",
            "Get:3 http://archive.ubuntu.com/ubuntu jammy/main amd64 libargon2-1 amd64 0~20171227-0.3 [19.5 kB]\n",
            "Get:4 http://archive.ubuntu.com/ubuntu jammy/main amd64 libdevmapper1.02.1 amd64 2:1.02.175-2.1ubuntu4 [139 kB]\n",
            "Get:5 http://archive.ubuntu.com/ubuntu jammy-updates/main amd64 libjson-c5 amd64 0.15-3~ubuntu1.22.04.1 [33.5 kB]\n",
            "Get:6 http://archive.ubuntu.com/ubuntu jammy-updates/main amd64 libcryptsetup12 amd64 2:2.4.3-1ubuntu1.1 [211 kB]\n",
            "Get:7 http://archive.ubuntu.com/ubuntu jammy-updates/main amd64 libip4tc2 amd64 1.8.7-1ubuntu5.1 [19.8 kB]\n",
            "Get:8 http://archive.ubuntu.com/ubuntu jammy/main amd64 libkmod2 amd64 29-1ubuntu1 [48.0 kB]\n",
            "Get:9 http://archive.ubuntu.com/ubuntu jammy-updates/main amd64 systemd amd64 249.11-0ubuntu3.9 [4,581 kB]\n",
            "Get:10 http://archive.ubuntu.com/ubuntu jammy-updates/main amd64 systemd-sysv amd64 249.11-0ubuntu3.9 [10.5 kB]\n",
            "Get:11 http://archive.ubuntu.com/ubuntu jammy/universe amd64 pigz amd64 2.6-1 [63.6 kB]\n",
            "Get:12 http://archive.ubuntu.com/ubuntu jammy-updates/main amd64 libdbus-1-3 amd64 1.12.20-2ubuntu4.1 [189 kB]\n",
            "Get:13 http://archive.ubuntu.com/ubuntu jammy-updates/main amd64 dbus amd64 1.12.20-2ubuntu4.1 [158 kB]\n",
            "Get:14 http://archive.ubuntu.com/ubuntu jammy/main amd64 dmsetup amd64 2:1.02.175-2.1ubuntu4 [81.7 kB]\n",
            "Get:15 http://archive.ubuntu.com/ubuntu jammy/main amd64 libgirepository-1.0-1 amd64 1.72.0-1 [55.6 kB]\n",
            "Get:16 http://archive.ubuntu.com/ubuntu jammy/main amd64 gir1.2-glib-2.0 amd64 1.72.0-1 [164 kB]\n",
            "Get:17 http://archive.ubuntu.com/ubuntu jammy/main amd64 libmnl0 amd64 1.0.4-3build2 [13.2 kB]\n",
            "Get:18 http://archive.ubuntu.com/ubuntu jammy-updates/main amd64 libnss-systemd amd64 249.11-0ubuntu3.9 [133 kB]\n",
            "Get:19 http://archive.ubuntu.com/ubuntu jammy-updates/main amd64 libpam-systemd amd64 249.11-0ubuntu3.9 [203 kB]\n",
            "Get:20 http://archive.ubuntu.com/ubuntu jammy-updates/main amd64 libxtables12 amd64 1.8.7-1ubuntu5.1 [31.2 kB]\n",
            "Get:21 http://archive.ubuntu.com/ubuntu jammy/main amd64 netbase all 6.3 [12.9 kB]\n",
            "Get:22 http://archive.ubuntu.com/ubuntu jammy/main amd64 python3-dbus amd64 1.2.18-3build1 [99.5 kB]\n",
            "Get:23 http://archive.ubuntu.com/ubuntu jammy-updates/main amd64 python3-gi amd64 3.42.1-0ubuntu1 [229 kB]\n",
            "Get:24 http://archive.ubuntu.com/ubuntu jammy-updates/main amd64 networkd-dispatcher all 2.1-2ubuntu0.22.04.2 [15.8 kB]\n",
            "Get:25 http://archive.ubuntu.com/ubuntu jammy-updates/main amd64 systemd-timesyncd amd64 249.11-0ubuntu3.9 [31.2 kB]\n",
            "Get:26 http://archive.ubuntu.com/ubuntu jammy-updates/main amd64 apparmor amd64 3.0.4-2ubuntu2.2 [595 kB]\n",
            "Get:27 http://archive.ubuntu.com/ubuntu jammy-updates/main amd64 libip6tc2 amd64 1.8.7-1ubuntu5.1 [20.2 kB]\n",
            "Get:28 http://archive.ubuntu.com/ubuntu jammy/main amd64 libnfnetlink0 amd64 1.0.1-3build3 [14.6 kB]\n",
            "Get:29 http://archive.ubuntu.com/ubuntu jammy/main amd64 libnetfilter-conntrack3 amd64 1.0.9-1 [45.3 kB]\n",
            "Get:30 http://archive.ubuntu.com/ubuntu jammy/main amd64 libnftnl11 amd64 1.2.1-1build1 [65.5 kB]\n",
            "Get:31 http://archive.ubuntu.com/ubuntu jammy-updates/main amd64 iptables amd64 1.8.7-1ubuntu5.1 [455 kB]\n",
            "Get:32 http://archive.ubuntu.com/ubuntu jammy/main amd64 xz-utils amd64 5.2.5-2ubuntu1 [84.8 kB]\n",
            "Get:33 http://archive.ubuntu.com/ubuntu jammy-updates/main amd64 dbus-user-session amd64 1.12.20-2ubuntu4.1 [9,442 B]\n",
            "Get:34 http://archive.ubuntu.com/ubuntu jammy/main amd64 libltdl7 amd64 2.4.6-15build2 [39.6 kB]\n",
            "Get:35 http://archive.ubuntu.com/ubuntu jammy/main amd64 libslirp0 amd64 4.6.1-1build1 [61.5 kB]\n",
            "Get:36 http://archive.ubuntu.com/ubuntu jammy/universe amd64 slirp4netns amd64 1.0.1-2 [28.2 kB]\n",
            "Get:37 https://download.docker.com/linux/ubuntu jammy/stable amd64 docker-buildx-plugin amd64 0.10.5-1~ubuntu.22.04~jammy [26.1 MB]\n",
            "Get:38 https://download.docker.com/linux/ubuntu jammy/stable amd64 docker-ce-cli amd64 5:24.0.2-1~ubuntu.22.04~jammy [13.3 MB]\n",
            "Get:39 https://download.docker.com/linux/ubuntu jammy/stable amd64 docker-ce amd64 5:24.0.2-1~ubuntu.22.04~jammy [22.9 MB]\n",
            "Get:40 https://download.docker.com/linux/ubuntu jammy/stable amd64 docker-ce-rootless-extras amd64 5:24.0.2-1~ubuntu.22.04~jammy [9,008 kB]\n",
            "Get:41 https://download.docker.com/linux/ubuntu jammy/stable amd64 docker-compose-plugin amd64 2.18.1-1~ubuntu.22.04~jammy [10.9 MB]\n"
          ]
        },
        {
          "name": "stderr",
          "output_type": "stream",
          "text": [
            "debconf: delaying package configuration, since apt-utils is not installed\n"
          ]
        },
        {
          "name": "stdout",
          "output_type": "stream",
          "text": [
            "Fetched 118 MB in 3min 58s (497 kB/s)\n",
            "Selecting previously unselected package libapparmor1:amd64.\n",
            "(Reading database ... 43239 files and directories currently installed.)\n",
            "Preparing to unpack .../0-libapparmor1_3.0.4-2ubuntu2.2_amd64.deb ...\n",
            "Unpacking libapparmor1:amd64 (3.0.4-2ubuntu2.2) ...\n",
            "Selecting previously unselected package libargon2-1:amd64.\n",
            "Preparing to unpack .../1-libargon2-1_0~20171227-0.3_amd64.deb ...\n",
            "Unpacking libargon2-1:amd64 (0~20171227-0.3) ...\n",
            "Selecting previously unselected package libdevmapper1.02.1:amd64.\n",
            "Preparing to unpack .../2-libdevmapper1.02.1_2%3a1.02.175-2.1ubuntu4_amd64.deb ...\n",
            "Unpacking libdevmapper1.02.1:amd64 (2:1.02.175-2.1ubuntu4) ...\n",
            "Selecting previously unselected package libjson-c5:amd64.\n",
            "Preparing to unpack .../3-libjson-c5_0.15-3~ubuntu1.22.04.1_amd64.deb ...\n",
            "Unpacking libjson-c5:amd64 (0.15-3~ubuntu1.22.04.1) ...\n",
            "Selecting previously unselected package libcryptsetup12:amd64.\n",
            "Preparing to unpack .../4-libcryptsetup12_2%3a2.4.3-1ubuntu1.1_amd64.deb ...\n",
            "Unpacking libcryptsetup12:amd64 (2:2.4.3-1ubuntu1.1) ...\n",
            "Selecting previously unselected package libip4tc2:amd64.\n",
            "Preparing to unpack .../5-libip4tc2_1.8.7-1ubuntu5.1_amd64.deb ...\n",
            "Unpacking libip4tc2:amd64 (1.8.7-1ubuntu5.1) ...\n",
            "Selecting previously unselected package libkmod2:amd64.\n",
            "Preparing to unpack .../6-libkmod2_29-1ubuntu1_amd64.deb ...\n",
            "Unpacking libkmod2:amd64 (29-1ubuntu1) ...\n",
            "Selecting previously unselected package systemd.\n",
            "Preparing to unpack .../7-systemd_249.11-0ubuntu3.9_amd64.deb ...\n",
            "Unpacking systemd (249.11-0ubuntu3.9) ...\n",
            "Setting up libapparmor1:amd64 (3.0.4-2ubuntu2.2) ...\n",
            "Setting up libargon2-1:amd64 (0~20171227-0.3) ...\n",
            "Setting up libdevmapper1.02.1:amd64 (2:1.02.175-2.1ubuntu4) ...\n",
            "Setting up libjson-c5:amd64 (0.15-3~ubuntu1.22.04.1) ...\n",
            "Setting up libcryptsetup12:amd64 (2:2.4.3-1ubuntu1.1) ...\n",
            "Setting up libip4tc2:amd64 (1.8.7-1ubuntu5.1) ...\n",
            "Setting up libkmod2:amd64 (29-1ubuntu1) ...\n",
            "Setting up systemd (249.11-0ubuntu3.9) ...\n",
            "Created symlink /etc/systemd/system/getty.target.wants/getty@tty1.service → /lib/systemd/system/getty@.service.\n",
            "Created symlink /etc/systemd/system/multi-user.target.wants/remote-fs.target → /lib/systemd/system/remote-fs.target.\n",
            "Created symlink /etc/systemd/system/dbus-org.freedesktop.resolve1.service → /lib/systemd/system/systemd-resolved.service.\n",
            "Created symlink /etc/systemd/system/multi-user.target.wants/systemd-resolved.service → /lib/systemd/system/systemd-resolved.service.\n",
            "ln: failed to create symbolic link '/etc/resolv.conf': Device or resource busy\n",
            "Created symlink /etc/systemd/system/sysinit.target.wants/systemd-pstore.service → /lib/systemd/system/systemd-pstore.service.\n",
            "Initializing machine ID from random generator.\n",
            "Selecting previously unselected package systemd-sysv.\n",
            "(Reading database ... 44054 files and directories currently installed.)\n",
            "Preparing to unpack .../00-systemd-sysv_249.11-0ubuntu3.9_amd64.deb ...\n",
            "Unpacking systemd-sysv (249.11-0ubuntu3.9) ...\n",
            "Selecting previously unselected package pigz.\n",
            "Preparing to unpack .../01-pigz_2.6-1_amd64.deb ...\n",
            "Unpacking pigz (2.6-1) ...\n",
            "Selecting previously unselected package libdbus-1-3:amd64.\n",
            "Preparing to unpack .../02-libdbus-1-3_1.12.20-2ubuntu4.1_amd64.deb ...\n",
            "Unpacking libdbus-1-3:amd64 (1.12.20-2ubuntu4.1) ...\n",
            "Selecting previously unselected package dbus.\n",
            "Preparing to unpack .../03-dbus_1.12.20-2ubuntu4.1_amd64.deb ...\n",
            "Unpacking dbus (1.12.20-2ubuntu4.1) ...\n",
            "Selecting previously unselected package dmsetup.\n",
            "Preparing to unpack .../04-dmsetup_2%3a1.02.175-2.1ubuntu4_amd64.deb ...\n",
            "Unpacking dmsetup (2:1.02.175-2.1ubuntu4) ...\n",
            "Selecting previously unselected package libgirepository-1.0-1:amd64.\n",
            "Preparing to unpack .../05-libgirepository-1.0-1_1.72.0-1_amd64.deb ...\n",
            "Unpacking libgirepository-1.0-1:amd64 (1.72.0-1) ...\n",
            "Selecting previously unselected package gir1.2-glib-2.0:amd64.\n",
            "Preparing to unpack .../06-gir1.2-glib-2.0_1.72.0-1_amd64.deb ...\n",
            "Unpacking gir1.2-glib-2.0:amd64 (1.72.0-1) ...\n",
            "Selecting previously unselected package libmnl0:amd64.\n",
            "Preparing to unpack .../07-libmnl0_1.0.4-3build2_amd64.deb ...\n",
            "Unpacking libmnl0:amd64 (1.0.4-3build2) ...\n",
            "Selecting previously unselected package libnss-systemd:amd64.\n",
            "Preparing to unpack .../08-libnss-systemd_249.11-0ubuntu3.9_amd64.deb ...\n",
            "Unpacking libnss-systemd:amd64 (249.11-0ubuntu3.9) ...\n",
            "Selecting previously unselected package libpam-systemd:amd64.\n",
            "Preparing to unpack .../09-libpam-systemd_249.11-0ubuntu3.9_amd64.deb ...\n",
            "Unpacking libpam-systemd:amd64 (249.11-0ubuntu3.9) ...\n",
            "Selecting previously unselected package libxtables12:amd64.\n",
            "Preparing to unpack .../10-libxtables12_1.8.7-1ubuntu5.1_amd64.deb ...\n",
            "Unpacking libxtables12:amd64 (1.8.7-1ubuntu5.1) ...\n",
            "Selecting previously unselected package netbase.\n",
            "Preparing to unpack .../11-netbase_6.3_all.deb ...\n",
            "Unpacking netbase (6.3) ...\n",
            "Selecting previously unselected package python3-dbus.\n",
            "Preparing to unpack .../12-python3-dbus_1.2.18-3build1_amd64.deb ...\n",
            "Unpacking python3-dbus (1.2.18-3build1) ...\n",
            "Selecting previously unselected package python3-gi.\n",
            "Preparing to unpack .../13-python3-gi_3.42.1-0ubuntu1_amd64.deb ...\n",
            "Unpacking python3-gi (3.42.1-0ubuntu1) ...\n",
            "Selecting previously unselected package networkd-dispatcher.\n",
            "Preparing to unpack .../14-networkd-dispatcher_2.1-2ubuntu0.22.04.2_all.deb ...\n",
            "Unpacking networkd-dispatcher (2.1-2ubuntu0.22.04.2) ...\n",
            "Selecting previously unselected package systemd-timesyncd.\n",
            "Preparing to unpack .../15-systemd-timesyncd_249.11-0ubuntu3.9_amd64.deb ...\n",
            "Unpacking systemd-timesyncd (249.11-0ubuntu3.9) ...\n",
            "Selecting previously unselected package apparmor.\n",
            "Preparing to unpack .../16-apparmor_3.0.4-2ubuntu2.2_amd64.deb ...\n",
            "Unpacking apparmor (3.0.4-2ubuntu2.2) ...\n",
            "Selecting previously unselected package libip6tc2:amd64.\n",
            "Preparing to unpack .../17-libip6tc2_1.8.7-1ubuntu5.1_amd64.deb ...\n",
            "Unpacking libip6tc2:amd64 (1.8.7-1ubuntu5.1) ...\n",
            "Selecting previously unselected package libnfnetlink0:amd64.\n",
            "Preparing to unpack .../18-libnfnetlink0_1.0.1-3build3_amd64.deb ...\n",
            "Unpacking libnfnetlink0:amd64 (1.0.1-3build3) ...\n",
            "Selecting previously unselected package libnetfilter-conntrack3:amd64.\n",
            "Preparing to unpack .../19-libnetfilter-conntrack3_1.0.9-1_amd64.deb ...\n",
            "Unpacking libnetfilter-conntrack3:amd64 (1.0.9-1) ...\n",
            "Selecting previously unselected package libnftnl11:amd64.\n",
            "Preparing to unpack .../20-libnftnl11_1.2.1-1build1_amd64.deb ...\n",
            "Unpacking libnftnl11:amd64 (1.2.1-1build1) ...\n",
            "Selecting previously unselected package iptables.\n",
            "Preparing to unpack .../21-iptables_1.8.7-1ubuntu5.1_amd64.deb ...\n",
            "Unpacking iptables (1.8.7-1ubuntu5.1) ...\n",
            "Selecting previously unselected package xz-utils.\n",
            "Preparing to unpack .../22-xz-utils_5.2.5-2ubuntu1_amd64.deb ...\n",
            "Unpacking xz-utils (5.2.5-2ubuntu1) ...\n",
            "Selecting previously unselected package containerd.io.\n",
            "Preparing to unpack .../23-containerd.io_1.6.21-1_amd64.deb ...\n",
            "Unpacking containerd.io (1.6.21-1) ...\n",
            "Selecting previously unselected package dbus-user-session.\n",
            "Preparing to unpack .../24-dbus-user-session_1.12.20-2ubuntu4.1_amd64.deb ...\n",
            "Unpacking dbus-user-session (1.12.20-2ubuntu4.1) ...\n",
            "Selecting previously unselected package docker-buildx-plugin.\n",
            "Preparing to unpack .../25-docker-buildx-plugin_0.10.5-1~ubuntu.22.04~jammy_amd64.deb ...\n",
            "Unpacking docker-buildx-plugin (0.10.5-1~ubuntu.22.04~jammy) ...\n",
            "Selecting previously unselected package docker-ce-cli.\n",
            "Preparing to unpack .../26-docker-ce-cli_5%3a24.0.2-1~ubuntu.22.04~jammy_amd64.deb ...\n",
            "Unpacking docker-ce-cli (5:24.0.2-1~ubuntu.22.04~jammy) ...\n",
            "Selecting previously unselected package docker-ce.\n",
            "Preparing to unpack .../27-docker-ce_5%3a24.0.2-1~ubuntu.22.04~jammy_amd64.deb ...\n",
            "Unpacking docker-ce (5:24.0.2-1~ubuntu.22.04~jammy) ...\n",
            "Selecting previously unselected package docker-ce-rootless-extras.\n",
            "Preparing to unpack .../28-docker-ce-rootless-extras_5%3a24.0.2-1~ubuntu.22.04~jammy_amd64.deb ...\n",
            "Unpacking docker-ce-rootless-extras (5:24.0.2-1~ubuntu.22.04~jammy) ...\n",
            "Selecting previously unselected package docker-compose-plugin.\n",
            "Preparing to unpack .../29-docker-compose-plugin_2.18.1-1~ubuntu.22.04~jammy_amd64.deb ...\n",
            "Unpacking docker-compose-plugin (2.18.1-1~ubuntu.22.04~jammy) ...\n",
            "Selecting previously unselected package libltdl7:amd64.\n",
            "Preparing to unpack .../30-libltdl7_2.4.6-15build2_amd64.deb ...\n",
            "Unpacking libltdl7:amd64 (2.4.6-15build2) ...\n",
            "Selecting previously unselected package libslirp0:amd64.\n",
            "Preparing to unpack .../31-libslirp0_4.6.1-1build1_amd64.deb ...\n",
            "Unpacking libslirp0:amd64 (4.6.1-1build1) ...\n",
            "Selecting previously unselected package slirp4netns.\n",
            "Preparing to unpack .../32-slirp4netns_1.0.1-2_amd64.deb ...\n",
            "Unpacking slirp4netns (1.0.1-2) ...\n",
            "Setting up systemd-sysv (249.11-0ubuntu3.9) ...\n",
            "Setting up libip6tc2:amd64 (1.8.7-1ubuntu5.1) ...\n",
            "Setting up libnss-systemd:amd64 (249.11-0ubuntu3.9) ...\n",
            "First installation detected...\n",
            "Checking NSS setup...\n",
            "Setting up apparmor (3.0.4-2ubuntu2.2) ...\n",
            "debconf: unable to initialize frontend: Dialog\n",
            "debconf: (No usable dialog-like program is installed, so the dialog based frontend cannot be used. at /usr/share/perl5/Debconf/FrontEnd/Dialog.pm line 78.)\n",
            "debconf: falling back to frontend: Readline\n",
            "Created symlink /etc/systemd/system/sysinit.target.wants/apparmor.service → /lib/systemd/system/apparmor.service.\n",
            "Setting up docker-buildx-plugin (0.10.5-1~ubuntu.22.04~jammy) ...\n",
            "Setting up libdbus-1-3:amd64 (1.12.20-2ubuntu4.1) ...\n",
            "Setting up dbus (1.12.20-2ubuntu4.1) ...\n",
            "Setting up xz-utils (5.2.5-2ubuntu1) ...\n",
            "update-alternatives: using /usr/bin/xz to provide /usr/bin/lzma (lzma) in auto mode\n",
            "update-alternatives: warning: skip creation of /usr/share/man/man1/lzma.1.gz because associated file /usr/share/man/man1/xz.1.gz (of link group lzma) doesn't exist\n",
            "update-alternatives: warning: skip creation of /usr/share/man/man1/unlzma.1.gz because associated file /usr/share/man/man1/unxz.1.gz (of link group lzma) doesn't exist\n",
            "update-alternatives: warning: skip creation of /usr/share/man/man1/lzcat.1.gz because associated file /usr/share/man/man1/xzcat.1.gz (of link group lzma) doesn't exist\n",
            "update-alternatives: warning: skip creation of /usr/share/man/man1/lzmore.1.gz because associated file /usr/share/man/man1/xzmore.1.gz (of link group lzma) doesn't exist\n",
            "update-alternatives: warning: skip creation of /usr/share/man/man1/lzless.1.gz because associated file /usr/share/man/man1/xzless.1.gz (of link group lzma) doesn't exist\n",
            "update-alternatives: warning: skip creation of /usr/share/man/man1/lzdiff.1.gz because associated file /usr/share/man/man1/xzdiff.1.gz (of link group lzma) doesn't exist\n",
            "update-alternatives: warning: skip creation of /usr/share/man/man1/lzcmp.1.gz because associated file /usr/share/man/man1/xzcmp.1.gz (of link group lzma) doesn't exist\n",
            "update-alternatives: warning: skip creation of /usr/share/man/man1/lzgrep.1.gz because associated file /usr/share/man/man1/xzgrep.1.gz (of link group lzma) doesn't exist\n",
            "update-alternatives: warning: skip creation of /usr/share/man/man1/lzegrep.1.gz because associated file /usr/share/man/man1/xzegrep.1.gz (of link group lzma) doesn't exist\n",
            "update-alternatives: warning: skip creation of /usr/share/man/man1/lzfgrep.1.gz because associated file /usr/share/man/man1/xzfgrep.1.gz (of link group lzma) doesn't exist\n",
            "Setting up libmnl0:amd64 (1.0.4-3build2) ...\n",
            "Setting up systemd-timesyncd (249.11-0ubuntu3.9) ...\n",
            "Created symlink /etc/systemd/system/dbus-org.freedesktop.timesync1.service → /lib/systemd/system/systemd-timesyncd.service.\n",
            "Created symlink /etc/systemd/system/sysinit.target.wants/systemd-timesyncd.service → /lib/systemd/system/systemd-timesyncd.service.\n",
            "Setting up containerd.io (1.6.21-1) ...\n",
            "Created symlink /etc/systemd/system/multi-user.target.wants/containerd.service → /lib/systemd/system/containerd.service.\n",
            "Setting up docker-compose-plugin (2.18.1-1~ubuntu.22.04~jammy) ...\n",
            "Setting up libxtables12:amd64 (1.8.7-1ubuntu5.1) ...\n",
            "Setting up libltdl7:amd64 (2.4.6-15build2) ...\n",
            "Setting up docker-ce-cli (5:24.0.2-1~ubuntu.22.04~jammy) ...\n",
            "Setting up libslirp0:amd64 (4.6.1-1build1) ...\n",
            "Setting up dmsetup (2:1.02.175-2.1ubuntu4) ...\n",
            "Setting up pigz (2.6-1) ...\n",
            "Setting up libnfnetlink0:amd64 (1.0.1-3build3) ...\n",
            "Setting up libpam-systemd:amd64 (249.11-0ubuntu3.9) ...\n",
            "debconf: unable to initialize frontend: Dialog\n",
            "debconf: (No usable dialog-like program is installed, so the dialog based frontend cannot be used. at /usr/share/perl5/Debconf/FrontEnd/Dialog.pm line 78.)\n",
            "debconf: falling back to frontend: Readline\n",
            "Setting up libgirepository-1.0-1:amd64 (1.72.0-1) ...\n",
            "Setting up netbase (6.3) ...\n",
            "Setting up python3-dbus (1.2.18-3build1) ...\n",
            "Setting up slirp4netns (1.0.1-2) ...\n",
            "Setting up libnftnl11:amd64 (1.2.1-1build1) ...\n",
            "Setting up dbus-user-session (1.12.20-2ubuntu4.1) ...\n",
            "Setting up gir1.2-glib-2.0:amd64 (1.72.0-1) ...\n",
            "Setting up libnetfilter-conntrack3:amd64 (1.0.9-1) ...\n",
            "Setting up docker-ce-rootless-extras (5:24.0.2-1~ubuntu.22.04~jammy) ...\n",
            "Setting up iptables (1.8.7-1ubuntu5.1) ...\n",
            "update-alternatives: using /usr/sbin/iptables-legacy to provide /usr/sbin/iptables (iptables) in auto mode\n",
            "update-alternatives: using /usr/sbin/ip6tables-legacy to provide /usr/sbin/ip6tables (ip6tables) in auto mode\n",
            "update-alternatives: using /usr/sbin/iptables-nft to provide /usr/sbin/iptables (iptables) in auto mode\n",
            "update-alternatives: using /usr/sbin/ip6tables-nft to provide /usr/sbin/ip6tables (ip6tables) in auto mode\n",
            "update-alternatives: using /usr/sbin/arptables-nft to provide /usr/sbin/arptables (arptables) in auto mode\n",
            "update-alternatives: using /usr/sbin/ebtables-nft to provide /usr/sbin/ebtables (ebtables) in auto mode\n",
            "Setting up docker-ce (5:24.0.2-1~ubuntu.22.04~jammy) ...\n",
            "Created symlink /etc/systemd/system/multi-user.target.wants/docker.service → /lib/systemd/system/docker.service.\n",
            "Created symlink /etc/systemd/system/sockets.target.wants/docker.socket → /lib/systemd/system/docker.socket.\n",
            "invoke-rc.d: could not determine current runlevel\n",
            "invoke-rc.d: policy-rc.d denied execution of start.\n",
            "Setting up python3-gi (3.42.1-0ubuntu1) ...\n",
            "Setting up networkd-dispatcher (2.1-2ubuntu0.22.04.2) ...\n",
            "Created symlink /etc/systemd/system/multi-user.target.wants/networkd-dispatcher.service → /lib/systemd/system/networkd-dispatcher.service.\n",
            "Processing triggers for libc-bin (2.35-0ubuntu3.1) ...\n"
          ]
        }
      ],
      "source": [
        "%%bash\n",
        "sudo apt update\n",
        "sudo apt-get install -y docker-ce docker-ce-cli containerd.io docker-buildx-plugin docker-compose-plugin"
      ]
    },
    {
      "cell_type": "code",
      "execution_count": 34,
      "metadata": {
        "colab": {
          "base_uri": "https://localhost:8080/"
        },
        "id": "4xdXzaObaqfs",
        "outputId": "2196b057-757c-4761-8fed-6289b56dce00"
      },
      "outputs": [],
      "source": [
        "%%script bash --bg --out docker_out --err docker_err\n",
        "killall dockerd\n",
        "rm /var/run/docker.pid 2>/dev/null\n",
        "set -x\n",
        "sudo dockerd -b none --iptables=0 -l warn"
      ]
    },
    {
      "cell_type": "code",
      "execution_count": null,
      "metadata": {
        "colab": {
          "base_uri": "https://localhost:8080/"
        },
        "id": "EoQoNq4RcRRk",
        "outputId": "989b4883-c0e3-40b1-9f89-4f2c21565142"
      },
      "outputs": [],
      "source": [
        "!sudo docker pull container-registry.oracle.com/database/express:21.3.0-xe"
      ]
    },
    {
      "cell_type": "code",
      "execution_count": null,
      "metadata": {},
      "outputs": [],
      "source": [
        "!sudo docker images"
      ]
    },
    {
      "cell_type": "code",
      "execution_count": null,
      "metadata": {
        "id": "lrBeA0Hahxuv"
      },
      "outputs": [],
      "source": [
        "!sudo docker export $(docker create container-registry.oracle.com/database/express:21.3.0-xe) > img.tar"
      ]
    },
    {
      "cell_type": "code",
      "execution_count": null,
      "metadata": {
        "id": "xXX-zss-j2_o"
      },
      "outputs": [],
      "source": [
        "# create img folder that we can chroot in (since docker itself does not work in google colab)\n",
        "!mkdir img"
      ]
    },
    {
      "cell_type": "code",
      "execution_count": null,
      "metadata": {
        "colab": {
          "base_uri": "https://localhost:8080/"
        },
        "id": "T1SZleLrgTzm",
        "outputId": "7363ca1f-86af-49a9-945a-bdffec705388"
      },
      "outputs": [],
      "source": [
        "!tar -C img  --exclude=\"dev\" -xf img.tar && ls -lah"
      ]
    },
    {
      "cell_type": "code",
      "execution_count": null,
      "metadata": {
        "id": "U5YJ_tBFlfNI"
      },
      "outputs": [],
      "source": [
        "%%bash\n",
        "cd img\n",
        "sudo bash\n",
        "rm -Rf proc 2>/dev/null\n",
        "rm -Rf sys 2>/dev/null\n",
        "rm -Rf dev 2>/dev/null\n",
        "mkdir proc\n",
        "mkdir sys\n",
        "mkdir dev\n",
        "sudo mount -t proc /proc proc/\n",
        "sudo mount --rbind /sys sys/\n",
        "sudo mount --rbind /dev dev/"
      ]
    },
    {
      "cell_type": "code",
      "execution_count": null,
      "metadata": {
        "colab": {
          "base_uri": "https://localhost:8080/"
        },
        "id": "HevN2eAW_XH6",
        "outputId": "e2ec10c0-8df6-49ca-daef-113d14a450af"
      },
      "outputs": [
        {
          "name": "stdout",
          "output_type": "stream",
          "text": [
            "All background processes were killed.\n"
          ]
        }
      ],
      "source": [
        "%killbgscripts"
      ]
    },
    {
      "attachments": {},
      "cell_type": "markdown",
      "metadata": {},
      "source": [
        "# Run oracle express"
      ]
    },
    {
      "cell_type": "code",
      "execution_count": null,
      "metadata": {
        "id": "jPyIL4slqNPY"
      },
      "outputs": [],
      "source": [
        "%%script bash --bg --out script_out --err script_err\n",
        "sudo bash\n",
        "sudo chroot img\n",
        "export ORACLE_BASE=/opt/oracle\n",
        "export ORACLE_HOME=/opt/oracle/product/21c/dbhomeXE\n",
        "export ORACLE_BASE_HOME=/opt/oracle/homes/OraDBHome21cXE\n",
        "export ORACLE_PWD=pwd123456\n",
        "\n",
        "export PATH=$PATH:/opt/oracle/product/21c/dbhomeXE/bin/\n",
        "export ORACLE_SID=XE\n",
        "export PWD_FILE=\"setPassword.sh\"\n",
        "export RUN_FILE=\"runOracle.sh\"\n",
        "export START_FILE=\"startDB.sh\"\n",
        "export CREATE_DB_FILE=\"createDB.sh\"\n",
        "export SETUP_LINUX_FILE=\"setupLinuxEnv.sh\"\n",
        "export CHECK_SPACE_FILE=\"checkSpace.sh\"\n",
        "export CHECK_DB_FILE=\"checkDBStatus.sh\"\n",
        "export USER_SCRIPTS_FILE=\"runUserScripts.sh\"\n",
        "export INSTALL_DB_BINARIES_FILE=\"installDBBinaries.sh\"\n",
        "export INSTALL_RSP=\"db_inst.rsp\"\n",
        "export CONFIG_RSP=\"dbca.rsp.tmpl\"\n",
        "export CONF_FILE=\"oracle-xe-21c.conf\"\n",
        "\n",
        "chown -R oracle:users /opt/oracle\n",
        "chown -R oracle:users /etc/oratab\n",
        "\n",
        "cd /opt/oracle/\n",
        "chmod +x ./$RUN_FILE\n",
        "su oracle\n",
        "./$RUN_FILE"
      ]
    },
    {
      "attachments": {},
      "cell_type": "markdown",
      "metadata": {},
      "source": [
        "# Prepare script files"
      ]
    },
    {
      "cell_type": "code",
      "execution_count": 19,
      "metadata": {
        "colab": {
          "base_uri": "https://localhost:8080/"
        },
        "id": "D1KDg2zuoV16",
        "outputId": "9690c5f4-5a90-45d4-de79-eaa5864cbc0a"
      },
      "outputs": [
        {
          "name": "stdout",
          "output_type": "stream",
          "text": [
            "Writing /content/img/script.sql\n"
          ]
        }
      ],
      "source": [
        "%%writefile /content/img/script.sql\n",
        "SELECT uid FROM dual;"
      ]
    },
    {
      "cell_type": "code",
      "execution_count": 20,
      "metadata": {
        "colab": {
          "base_uri": "https://localhost:8080/"
        },
        "id": "kRt8NjVkVG3s",
        "outputId": "0c2387dd-9170-4fd5-f338-a7e409b335c2"
      },
      "outputs": [
        {
          "name": "stdout",
          "output_type": "stream",
          "text": [
            "Writing /content/img/add_user.sql\n"
          ]
        }
      ],
      "source": [
        "%%writefile /content/img/add_user.sql\n",
        "CREATE USER john IDENTIFIED BY pwd123456;\n",
        "GRANT CREATE SESSION TO john;\n",
        "GRANT CREATE ANY PROCEDURE TO john;\n",
        "GRANT CREATE ANY TABLE TO john;\n",
        "GRANT CREATE ANY VIEW TO john;"
      ]
    },
    {
      "cell_type": "code",
      "execution_count": 21,
      "metadata": {
        "colab": {
          "base_uri": "https://localhost:8080/"
        },
        "id": "uhtVj-08XbMk",
        "outputId": "15e03202-73fa-4db6-9ccb-f3c9474fb2dd"
      },
      "outputs": [
        {
          "name": "stdout",
          "output_type": "stream",
          "text": [
            "Writing /content/img/add_packages.sql\n"
          ]
        }
      ],
      "source": [
        "%%writefile /content/img/add_packages.sql\n",
        "CREATE OR REPLACE PACKAGE test AS\n",
        "  PROCEDURE test_proc;\n",
        "END test;\n",
        "/\n",
        "\n",
        "CREATE OR REPLACE PACKAGE BODY test AS\n",
        "  PROCEDURE test_proc AS\n",
        "  BEGIN\n",
        "    NULL;\n",
        "  END;\n",
        "END test;\n",
        "/\n",
        "quit"
      ]
    },
    {
      "cell_type": "code",
      "execution_count": 22,
      "metadata": {},
      "outputs": [
        {
          "name": "stdout",
          "output_type": "stream",
          "text": [
            "Writing /content/img/add_tables.sql\n"
          ]
        }
      ],
      "source": [
        "%%writefile /content/img/add_tables.sql\n",
        "CREATE TABLE TEST_TABLE\n",
        "(\n",
        "  test_col VARCHAR(255)\n",
        ");\n",
        "\n",
        "quit"
      ]
    },
    {
      "cell_type": "code",
      "execution_count": 23,
      "metadata": {},
      "outputs": [
        {
          "name": "stdout",
          "output_type": "stream",
          "text": [
            "Writing /content/img/add_views.sql\n"
          ]
        }
      ],
      "source": [
        "%%writefile /content/img/add_views.sql\n",
        "CREATE VIEW TEST_VIEW AS\n",
        "  SELECT * FROM TEST_TABLE;\n",
        "\n",
        "quit"
      ]
    },
    {
      "cell_type": "code",
      "execution_count": 24,
      "metadata": {
        "colab": {
          "base_uri": "https://localhost:8080/"
        },
        "id": "UDjUNfVQkySu",
        "outputId": "a6597579-3a31-4701-e8ba-f28004dadd8b"
      },
      "outputs": [
        {
          "name": "stdout",
          "output_type": "stream",
          "text": [
            "Writing /content/img/select_objects.sql\n"
          ]
        }
      ],
      "source": [
        "%%writefile /content/img/select_objects.sql\n",
        "\n",
        "set colsep ,     -- separate columns with a comma\n",
        "set pagesize 0   -- No header rows\n",
        "set trimspool on -- remove trailing blanks\n",
        "set headsep off  -- this may or may not be useful...depends on your headings.\n",
        "set linesize 4096   -- X should be the sum of the column widths\n",
        "set numw 4096       -- X should be the length you want for numbers (avoid scientific notation on IDs)\n",
        "\n",
        "spool select.csv\n",
        "SELECT * FROM all_objects WHERE LOWER(OWNER)='john';\n",
        "spool off"
      ]
    },
    {
      "attachments": {},
      "cell_type": "markdown",
      "metadata": {},
      "source": [
        "# Execute script files"
      ]
    },
    {
      "cell_type": "code",
      "execution_count": null,
      "metadata": {
        "colab": {
          "base_uri": "https://localhost:8080/"
        },
        "id": "UdDOvkIjnv9g",
        "outputId": "63978bbd-020b-4d02-9e48-faac9cb8804c"
      },
      "outputs": [],
      "source": [
        "%%bash\n",
        "sudo chroot img\n",
        "export ORACLE_HOME=/opt/oracle/product/21c/dbhomeXE\n",
        "export PATH=$PATH:/opt/oracle/product/21c/dbhomeXE/bin/\n",
        "export ORACLE_SID=XE\n",
        "sqlplus sys/pwd123456@//localhost:1521/XE AS SYSDBA @script.sql"
      ]
    },
    {
      "cell_type": "code",
      "execution_count": null,
      "metadata": {
        "colab": {
          "base_uri": "https://localhost:8080/"
        },
        "id": "sq7FnWvAVSX0",
        "outputId": "63ca95df-76b6-4c79-9405-211e6c5ea683"
      },
      "outputs": [],
      "source": [
        "%%bash\n",
        "sudo chroot img\n",
        "export ORACLE_HOME=/opt/oracle/product/21c/dbhomeXE\n",
        "export PATH=$PATH:/opt/oracle/product/21c/dbhomeXE/bin/\n",
        "export ORACLE_SID=XE\n",
        "sqlplus sys/pwd123456@//localhost:1521/XEPDB1 AS SYSDBA @add_user.sql"
      ]
    },
    {
      "cell_type": "code",
      "execution_count": null,
      "metadata": {
        "colab": {
          "base_uri": "https://localhost:8080/"
        },
        "id": "bskQ62jgXpn-",
        "outputId": "a1d7bce1-0176-4479-b4b3-d8b0236ff6aa"
      },
      "outputs": [],
      "source": [
        "%%bash\n",
        "chroot img\n",
        "export ORACLE_HOME=/opt/oracle/product/21c/dbhomeXE\n",
        "export PATH=$PATH:/opt/oracle/product/21c/dbhomeXE/bin/\n",
        "export ORACLE_SID=XE\n",
        "sqlplus john/pwd123456@//localhost:1521/XEPDB1 @add_packages.sql\n",
        "sqlplus john/pwd123456@//localhost:1521/XEPDB1 @add_tables.sql\n",
        "sqlplus john/pwd123456@//localhost:1521/XEPDB1 @add_views.sql"
      ]
    },
    {
      "cell_type": "code",
      "execution_count": null,
      "metadata": {
        "colab": {
          "base_uri": "https://localhost:8080/"
        },
        "id": "TIzYsDedk7AB",
        "outputId": "95f6b1b4-a53a-4886-fe49-ccc073c1b1c2"
      },
      "outputs": [],
      "source": [
        "%%bash\n",
        "chroot img\n",
        "export ORACLE_HOME=/opt/oracle/product/21c/dbhomeXE\n",
        "export PATH=$PATH:/opt/oracle/product/21c/dbhomeXE/bin/\n",
        "export ORACLE_SID=XE\n",
        "sqlplus john/pwd123456@//localhost:1521/XEPDB1 @select_objects.sql 1> select_1.txt 2> select_2.txt"
      ]
    },
    {
      "attachments": {},
      "cell_type": "markdown",
      "metadata": {},
      "source": [
        "# Get source of git-remote-oracle"
      ]
    },
    {
      "cell_type": "code",
      "execution_count": 25,
      "metadata": {
        "colab": {
          "base_uri": "https://localhost:8080/"
        },
        "id": "LsLoicUBSTja",
        "outputId": "ea8baeb7-ff33-47f8-fb16-b40701040ddf"
      },
      "outputs": [
        {
          "name": "stderr",
          "output_type": "stream",
          "text": [
            "Cloning into 'git-remote-oracle'...\n"
          ]
        }
      ],
      "source": [
        "%%bash\n",
        "git clone https://github.com/TheCrazyT/git-remote-oracle"
      ]
    },
    {
      "cell_type": "code",
      "execution_count": 26,
      "metadata": {
        "colab": {
          "base_uri": "https://localhost:8080/"
        },
        "id": "xdocc_JLTZcD",
        "outputId": "f27a63ed-695c-4767-a1b0-703297f52689"
      },
      "outputs": [
        {
          "name": "stderr",
          "output_type": "stream",
          "text": [
            "error: pathspec 'git-remote-oracle' did not match any file(s) known to git\n"
          ]
        },
        {
          "name": "stdout",
          "output_type": "stream",
          "text": [
            "On branch main\n",
            "Your branch is up to date with 'origin/main'.\n",
            "\n",
            "nothing to commit, working tree clean\n"
          ]
        },
        {
          "name": "stdout",
          "output_type": "stream",
          "text": [
            "Already up to date.\n"
          ]
        }
      ],
      "source": [
        "%%bash\n",
        "cd git-remote-oracle\n",
        "git checkout git-remote-oracle\n",
        "git status\n",
        "git pull"
      ]
    },
    {
      "attachments": {},
      "cell_type": "markdown",
      "metadata": {},
      "source": [
        "# Install dependencies"
      ]
    },
    {
      "cell_type": "code",
      "execution_count": 27,
      "metadata": {
        "colab": {
          "base_uri": "https://localhost:8080/"
        },
        "id": "HUdSZ4ddSztT",
        "outputId": "0930eff6-4bcc-4d4b-fef4-d752dc01565c"
      },
      "outputs": [
        {
          "name": "stdout",
          "output_type": "stream",
          "text": [
            "Collecting oracledb\n",
            "  Downloading oracledb-1.3.2-cp311-cp311-manylinux_2_17_x86_64.manylinux2014_x86_64.whl (8.3 MB)\n",
            "\u001b[2K     \u001b[90m━━━━━━━━━━━━━━━━━━━━━━━━━━━━━━━━━━━━━━━━\u001b[0m \u001b[32m8.3/8.3 MB\u001b[0m \u001b[31m602.1 kB/s\u001b[0m eta \u001b[36m0:00:00\u001b[0m00:01\u001b[0m00:01\u001b[0m\n",
            "\u001b[?25hRequirement already satisfied: pexpect in /opt/conda/lib/python3.11/site-packages (4.8.0)\n",
            "Requirement already satisfied: cryptography>=3.2.1 in /opt/conda/lib/python3.11/site-packages (from oracledb) (41.0.1)\n",
            "Requirement already satisfied: ptyprocess>=0.5 in /opt/conda/lib/python3.11/site-packages (from pexpect) (0.7.0)\n",
            "Requirement already satisfied: cffi>=1.12 in /opt/conda/lib/python3.11/site-packages (from cryptography>=3.2.1->oracledb) (1.15.1)\n",
            "Requirement already satisfied: pycparser in /opt/conda/lib/python3.11/site-packages (from cffi>=1.12->cryptography>=3.2.1->oracledb) (2.21)\n",
            "Installing collected packages: oracledb\n",
            "Successfully installed oracledb-1.3.2\n"
          ]
        }
      ],
      "source": [
        "!pip install oracledb pexpect"
      ]
    },
    {
      "attachments": {},
      "cell_type": "markdown",
      "metadata": {},
      "source": [
        "# Test git clone"
      ]
    },
    {
      "cell_type": "code",
      "execution_count": null,
      "metadata": {
        "colab": {
          "base_uri": "https://localhost:8080/"
        },
        "id": "vEw3UMjiSY86",
        "outputId": "fcafd8c4-5016-44fa-f0fb-295bc124e0b8"
      },
      "outputs": [],
      "source": [
        "%%bash\n",
        "export PATH=$PATH:$(pwd)/git-remote-oracle/src/git_remote_oracle\n",
        "export GR_ORACLE_DEBUG=1\n",
        "export GR_ORACLE_DEBUG_GIT=1\n",
        "\n",
        "export REL_PATH=$(pwd)/git-remote-oracle/src/git_remote_oracle\n",
        "\n",
        "echo \"#!/bin/bash\" > $(pwd)/git-remote-oracle/src/git_remote_oracle/git-remote-oracle\n",
        "echo python3 $(pwd)'/git-remote-oracle/src/git_remote_oracle/git_remote_oracle.py $@' >> $(pwd)/git-remote-oracle/src/git_remote_oracle/git-remote-oracle\n",
        "\n",
        "chmod +x ${REL_PATH}/git_remote_oracle.py\n",
        "chmod +x ${REL_PATH}/git-remote-oracle\n",
        "\n",
        "rm -Rf JOHN 2>/dev/null\n",
        "\n",
        "git config --global credential.helper store\n",
        "echo -e \"protocol=oracle\\nhost=127.0.0.1\\nusername=john\\npassword=pwd123456\"|git credential approve\n",
        "git clone oracle://127.0.0.1:1521/XEPDB1/JOHN"
      ]
    },
    {
      "attachments": {},
      "cell_type": "markdown",
      "metadata": {},
      "source": [
        "# Test git pull"
      ]
    },
    {
      "cell_type": "code",
      "execution_count": null,
      "metadata": {},
      "outputs": [],
      "source": [
        "%%bash\n",
        "export PATH=$PATH:$(pwd)/git-remote-oracle/src/git_remote_oracle\n",
        "export GR_ORACLE_DEBUG=1\n",
        "export GR_ORACLE_DEBUG_GIT=1\n",
        "\n",
        "cd JOHN\n",
        "git pull"
      ]
    },
    {
      "attachments": {},
      "cell_type": "markdown",
      "metadata": {},
      "source": [
        "# List files"
      ]
    },
    {
      "cell_type": "code",
      "execution_count": null,
      "metadata": {
        "colab": {
          "base_uri": "https://localhost:8080/"
        },
        "id": "X7NMv46YXCT6",
        "outputId": "e4119b16-09cd-4713-ea1c-e3788c6ec048"
      },
      "outputs": [
        {
          "name": "stdout",
          "output_type": "stream",
          "text": [
            "total 16K\n",
            "drwxr-xr-x 4 root root 4.0K Jun 24 15:08 .\n",
            "drwxr-xr-x 1 root root 4.0K Jun 24 15:08 ..\n",
            "drwxr-xr-x 8 root root 4.0K Jun 24 15:08 .git\n",
            "drwxr-xr-x 2 root root 4.0K Jun 24 15:08 PACKAGE\n",
            "total 12K\n",
            "drwxr-xr-x 2 root root 4.0K Jun 24 15:08 .\n",
            "drwxr-xr-x 4 root root 4.0K Jun 24 15:08 ..\n",
            "-rw-r--r-- 1 root root  210 Jun 24 15:08 TEST.sql\n"
          ]
        }
      ],
      "source": [
        "!ls -lah JOHN\n",
        "!ls -lah JOHN/PACKAGE"
      ]
    },
    {
      "attachments": {},
      "cell_type": "markdown",
      "metadata": {},
      "source": [
        "# Stop oracle"
      ]
    },
    {
      "cell_type": "code",
      "execution_count": null,
      "metadata": {
        "id": "uSRD9g11MYnC"
      },
      "outputs": [],
      "source": [
        "%killbgscripts"
      ]
    }
  ],
  "metadata": {
    "colab": {
      "provenance": []
    },
    "kernelspec": {
      "display_name": "Python 3 (ipykernel)",
      "language": "python",
      "name": "python3"
    },
    "language_info": {
      "codemirror_mode": {
        "name": "ipython",
        "version": 3
      },
      "file_extension": ".py",
      "mimetype": "text/x-python",
      "name": "python",
      "nbconvert_exporter": "python",
      "pygments_lexer": "ipython3",
      "version": "3.11.4"
    }
  },
  "nbformat": 4,
  "nbformat_minor": 0
}
