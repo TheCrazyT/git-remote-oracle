{
  "cells": [
    {
      "cell_type": "code",
      "execution_count": null,
      "metadata": {
        "colab": {
          "base_uri": "https://localhost:8080/"
        },
        "id": "YKXFVjUuZzpO",
        "outputId": "0ad0d1ac-2c89-44d1-fc99-419fbc14d871"
      },
      "outputs": [
        {
          "name": "stdout",
          "output_type": "stream",
          "text": [
            "Get:1 http://security.ubuntu.com/ubuntu focal-security InRelease [114 kB]\n",
            "Hit:2 http://archive.ubuntu.com/ubuntu focal InRelease\n",
            "Get:3 https://cloud.r-project.org/bin/linux/ubuntu focal-cran40/ InRelease [3,622 B]\n",
            "Get:4 http://archive.ubuntu.com/ubuntu focal-updates InRelease [114 kB]\n",
            "Hit:5 http://ppa.launchpad.net/c2d4u.team/c2d4u4.0+/ubuntu focal InRelease\n",
            "Hit:6 https://developer.download.nvidia.com/compute/cuda/repos/ubuntu2004/x86_64  InRelease\n",
            "Get:7 http://archive.ubuntu.com/ubuntu focal-backports InRelease [108 kB]\n",
            "Hit:8 http://ppa.launchpad.net/cran/libgit2/ubuntu focal InRelease\n",
            "Hit:9 http://ppa.launchpad.net/deadsnakes/ppa/ubuntu focal InRelease\n",
            "Hit:10 http://ppa.launchpad.net/graphics-drivers/ppa/ubuntu focal InRelease\n",
            "Hit:11 http://ppa.launchpad.net/ubuntugis/ppa/ubuntu focal InRelease\n",
            "Get:12 http://archive.ubuntu.com/ubuntu focal-updates/main amd64 Packages [3,299 kB]\n",
            "Get:13 http://archive.ubuntu.com/ubuntu focal-updates/universe amd64 Packages [1,360 kB]\n",
            "Fetched 4,999 kB in 3s (1,953 kB/s)\n",
            "Reading package lists...\n",
            "Reading package lists...\n",
            "Building dependency tree...\n",
            "Reading state information...\n",
            "ca-certificates is already the newest version (20230311ubuntu0.20.04.1).\n",
            "curl is already the newest version (7.68.0-1ubuntu2.18).\n",
            "gnupg is already the newest version (2.2.19-3ubuntu2.2).\n",
            "gnupg set to manually installed.\n",
            "0 upgraded, 0 newly installed, 0 to remove and 13 not upgraded.\n"
          ]
        }
      ],
      "source": [
        "%%bash\n",
        "apt-get update\n",
        "apt-get install ca-certificates curl gnupg\n",
        "install -m 0755 -d /etc/apt/keyrings\n",
        "curl -fsSL https://download.docker.com/linux/ubuntu/gpg | sudo gpg --dearmor -o /etc/apt/keyrings/docker.gpg\n",
        "chmod a+r /etc/apt/keyrings/docker.gpg\n",
        "echo \\\n",
        "  \"deb [arch=\"$(dpkg --print-architecture)\" signed-by=/etc/apt/keyrings/docker.gpg] https://download.docker.com/linux/ubuntu \\\n",
        "  \"$(. /etc/os-release && echo \"$VERSION_CODENAME\")\" stable\" | \\\n",
        "  sudo tee /etc/apt/sources.list.d/docker.list > /dev/null"
      ]
    },
    {
      "cell_type": "code",
      "execution_count": null,
      "metadata": {
        "colab": {
          "base_uri": "https://localhost:8080/"
        },
        "id": "ZSLTeGIgZj-l",
        "outputId": "a23eb305-80c5-43a3-9e5b-005610ab0a08"
      },
      "outputs": [
        {
          "name": "stdout",
          "output_type": "stream",
          "text": [
            "Hit:1 https://cloud.r-project.org/bin/linux/ubuntu focal-cran40/ InRelease\n",
            "Hit:2 http://security.ubuntu.com/ubuntu focal-security InRelease\n",
            "Hit:3 http://archive.ubuntu.com/ubuntu focal InRelease\n",
            "Get:4 https://download.docker.com/linux/ubuntu focal InRelease [57.7 kB]\n",
            "Hit:5 http://archive.ubuntu.com/ubuntu focal-updates InRelease\n",
            "Hit:6 http://archive.ubuntu.com/ubuntu focal-backports InRelease\n",
            "Hit:7 https://developer.download.nvidia.com/compute/cuda/repos/ubuntu2004/x86_64  InRelease\n",
            "Hit:8 http://ppa.launchpad.net/c2d4u.team/c2d4u4.0+/ubuntu focal InRelease\n",
            "Hit:9 http://ppa.launchpad.net/cran/libgit2/ubuntu focal InRelease\n",
            "Get:10 https://download.docker.com/linux/ubuntu focal/stable amd64 Packages [35.7 kB]\n",
            "Hit:11 http://ppa.launchpad.net/deadsnakes/ppa/ubuntu focal InRelease\n",
            "Hit:12 http://ppa.launchpad.net/graphics-drivers/ppa/ubuntu focal InRelease\n",
            "Hit:13 http://ppa.launchpad.net/ubuntugis/ppa/ubuntu focal InRelease\n",
            "Fetched 93.4 kB in 1s (76.0 kB/s)\n",
            "Reading package lists...\n",
            "Reading package lists...\n",
            "Building dependency tree...\n",
            "Reading state information...\n",
            "The following additional packages will be installed:\n",
            "  apparmor docker-ce-rootless-extras iptables libip6tc2\n",
            "  libnetfilter-conntrack3 libnfnetlink0 libnftnl11 netbase pigz slirp4netns\n",
            "Suggested packages:\n",
            "  apparmor-profiles-extra apparmor-utils aufs-tools cgroupfs-mount\n",
            "  | cgroup-lite firewalld nftables\n",
            "The following NEW packages will be installed:\n",
            "  apparmor containerd.io docker-buildx-plugin docker-ce docker-ce-cli\n",
            "  docker-ce-rootless-extras docker-compose-plugin iptables libip6tc2\n",
            "  libnetfilter-conntrack3 libnfnetlink0 libnftnl11 netbase pigz slirp4netns\n",
            "0 upgraded, 15 newly installed, 0 to remove and 13 not upgraded.\n",
            "Need to get 112 MB of archives.\n",
            "After this operation, 407 MB of additional disk space will be used.\n",
            "Get:1 https://download.docker.com/linux/ubuntu focal/stable amd64 containerd.io amd64 1.6.21-1 [28.3 MB]\n",
            "Get:2 http://archive.ubuntu.com/ubuntu focal/universe amd64 pigz amd64 2.4-1 [57.4 kB]\n",
            "Get:3 http://archive.ubuntu.com/ubuntu focal/main amd64 netbase all 6.1 [13.1 kB]\n",
            "Get:4 http://archive.ubuntu.com/ubuntu focal-updates/main amd64 apparmor amd64 2.13.3-7ubuntu5.2 [502 kB]\n",
            "Get:5 http://archive.ubuntu.com/ubuntu focal-updates/main amd64 libip6tc2 amd64 1.8.4-3ubuntu2.1 [19.4 kB]\n",
            "Get:6 http://archive.ubuntu.com/ubuntu focal/main amd64 libnfnetlink0 amd64 1.0.1-3build1 [13.8 kB]\n",
            "Get:7 http://archive.ubuntu.com/ubuntu focal/main amd64 libnetfilter-conntrack3 amd64 1.0.7-2 [41.4 kB]\n",
            "Get:8 http://archive.ubuntu.com/ubuntu focal/main amd64 libnftnl11 amd64 1.1.5-1 [57.8 kB]\n",
            "Get:9 http://archive.ubuntu.com/ubuntu focal-updates/main amd64 iptables amd64 1.8.4-3ubuntu2.1 [390 kB]\n",
            "Get:10 http://archive.ubuntu.com/ubuntu focal/universe amd64 slirp4netns amd64 0.4.3-1 [74.3 kB]\n",
            "Get:11 https://download.docker.com/linux/ubuntu focal/stable amd64 docker-buildx-plugin amd64 0.10.5-1~ubuntu.20.04~focal [26.1 MB]\n",
            "Get:12 https://download.docker.com/linux/ubuntu focal/stable amd64 docker-ce-cli amd64 5:24.0.2-1~ubuntu.20.04~focal [13.3 MB]\n",
            "Get:13 https://download.docker.com/linux/ubuntu focal/stable amd64 docker-ce amd64 5:24.0.2-1~ubuntu.20.04~focal [22.9 MB]\n",
            "Get:14 https://download.docker.com/linux/ubuntu focal/stable amd64 docker-ce-rootless-extras amd64 5:24.0.2-1~ubuntu.20.04~focal [9,018 kB]\n",
            "Get:15 https://download.docker.com/linux/ubuntu focal/stable amd64 docker-compose-plugin amd64 2.18.1-1~ubuntu.20.04~focal [10.9 MB]\n",
            "Preconfiguring packages ...\n",
            "Fetched 112 MB in 1s (81.0 MB/s)\n",
            "Selecting previously unselected package pigz.\r\n",
            "(Reading database ... \r(Reading database ... 5%\r(Reading database ... 10%\r(Reading database ... 15%\r(Reading database ... 20%\r(Reading database ... 25%\r(Reading database ... 30%\r(Reading database ... 35%\r(Reading database ... 40%\r(Reading database ... 45%\r(Reading database ... 50%\r(Reading database ... 55%\r(Reading database ... 60%\r(Reading database ... 65%\r(Reading database ... 70%\r(Reading database ... 75%\r(Reading database ... 80%\r(Reading database ... 85%\r(Reading database ... 90%\r(Reading database ... 95%\r(Reading database ... 100%\r(Reading database ... 123069 files and directories currently installed.)\r\n",
            "Preparing to unpack .../00-pigz_2.4-1_amd64.deb ...\r\n",
            "Unpacking pigz (2.4-1) ...\r\n",
            "Selecting previously unselected package netbase.\r\n",
            "Preparing to unpack .../01-netbase_6.1_all.deb ...\r\n",
            "Unpacking netbase (6.1) ...\r\n",
            "Selecting previously unselected package apparmor.\r\n",
            "Preparing to unpack .../02-apparmor_2.13.3-7ubuntu5.2_amd64.deb ...\r\n",
            "Unpacking apparmor (2.13.3-7ubuntu5.2) ...\r\n",
            "Selecting previously unselected package libip6tc2:amd64.\r\n",
            "Preparing to unpack .../03-libip6tc2_1.8.4-3ubuntu2.1_amd64.deb ...\r\n",
            "Unpacking libip6tc2:amd64 (1.8.4-3ubuntu2.1) ...\r\n",
            "Selecting previously unselected package libnfnetlink0:amd64.\r\n",
            "Preparing to unpack .../04-libnfnetlink0_1.0.1-3build1_amd64.deb ...\r\n",
            "Unpacking libnfnetlink0:amd64 (1.0.1-3build1) ...\r\n",
            "Selecting previously unselected package libnetfilter-conntrack3:amd64.\r\n",
            "Preparing to unpack .../05-libnetfilter-conntrack3_1.0.7-2_amd64.deb ...\r\n",
            "Unpacking libnetfilter-conntrack3:amd64 (1.0.7-2) ...\r\n",
            "Selecting previously unselected package libnftnl11:amd64.\r\n",
            "Preparing to unpack .../06-libnftnl11_1.1.5-1_amd64.deb ...\r\n",
            "Unpacking libnftnl11:amd64 (1.1.5-1) ...\r\n",
            "Selecting previously unselected package iptables.\r\n",
            "Preparing to unpack .../07-iptables_1.8.4-3ubuntu2.1_amd64.deb ...\r\n",
            "Unpacking iptables (1.8.4-3ubuntu2.1) ...\r\n",
            "Selecting previously unselected package containerd.io.\r\n",
            "Preparing to unpack .../08-containerd.io_1.6.21-1_amd64.deb ...\r\n",
            "Unpacking containerd.io (1.6.21-1) ...\r\n",
            "Selecting previously unselected package docker-buildx-plugin.\r\n",
            "Preparing to unpack .../09-docker-buildx-plugin_0.10.5-1~ubuntu.20.04~focal_amd64.deb ...\r\n",
            "Unpacking docker-buildx-plugin (0.10.5-1~ubuntu.20.04~focal) ...\r\n",
            "Selecting previously unselected package docker-ce-cli.\r\n",
            "Preparing to unpack .../10-docker-ce-cli_5%3a24.0.2-1~ubuntu.20.04~focal_amd64.deb ...\r\n",
            "Unpacking docker-ce-cli (5:24.0.2-1~ubuntu.20.04~focal) ...\r\n",
            "Selecting previously unselected package docker-ce.\r\n",
            "Preparing to unpack .../11-docker-ce_5%3a24.0.2-1~ubuntu.20.04~focal_amd64.deb ...\r\n",
            "Unpacking docker-ce (5:24.0.2-1~ubuntu.20.04~focal) ...\r\n",
            "Selecting previously unselected package docker-ce-rootless-extras.\r\n",
            "Preparing to unpack .../12-docker-ce-rootless-extras_5%3a24.0.2-1~ubuntu.20.04~focal_amd64.deb ...\r\n",
            "Unpacking docker-ce-rootless-extras (5:24.0.2-1~ubuntu.20.04~focal) ...\r\n",
            "Selecting previously unselected package docker-compose-plugin.\r\n",
            "Preparing to unpack .../13-docker-compose-plugin_2.18.1-1~ubuntu.20.04~focal_amd64.deb ...\r\n",
            "Unpacking docker-compose-plugin (2.18.1-1~ubuntu.20.04~focal) ...\r\n",
            "Selecting previously unselected package slirp4netns.\r\n",
            "Preparing to unpack .../14-slirp4netns_0.4.3-1_amd64.deb ...\r\n",
            "Unpacking slirp4netns (0.4.3-1) ...\r\n",
            "Setting up slirp4netns (0.4.3-1) ...\r\n",
            "Setting up libip6tc2:amd64 (1.8.4-3ubuntu2.1) ...\r\n",
            "Setting up libnftnl11:amd64 (1.1.5-1) ...\r\n",
            "Setting up apparmor (2.13.3-7ubuntu5.2) ...\r\n",
            "Created symlink /etc/systemd/system/sysinit.target.wants/apparmor.service → /lib/systemd/system/apparmor.service.\r\n",
            "Setting up docker-buildx-plugin (0.10.5-1~ubuntu.20.04~focal) ...\r\n",
            "Setting up containerd.io (1.6.21-1) ...\r\n",
            "Created symlink /etc/systemd/system/multi-user.target.wants/containerd.service → /lib/systemd/system/containerd.service.\r\n",
            "Setting up docker-compose-plugin (2.18.1-1~ubuntu.20.04~focal) ...\r\n",
            "Setting up docker-ce-cli (5:24.0.2-1~ubuntu.20.04~focal) ...\r\n",
            "Setting up pigz (2.4-1) ...\r\n",
            "Setting up libnfnetlink0:amd64 (1.0.1-3build1) ...\r\n",
            "Setting up netbase (6.1) ...\r\n",
            "Setting up docker-ce-rootless-extras (5:24.0.2-1~ubuntu.20.04~focal) ...\r\n",
            "Setting up libnetfilter-conntrack3:amd64 (1.0.7-2) ...\r\n",
            "Setting up iptables (1.8.4-3ubuntu2.1) ...\r\n",
            "update-alternatives: using /usr/sbin/iptables-legacy to provide /usr/sbin/iptables (iptables) in auto mode\r\n",
            "update-alternatives: using /usr/sbin/ip6tables-legacy to provide /usr/sbin/ip6tables (ip6tables) in auto mode\r\n",
            "update-alternatives: using /usr/sbin/arptables-nft to provide /usr/sbin/arptables (arptables) in auto mode\r\n",
            "update-alternatives: using /usr/sbin/ebtables-nft to provide /usr/sbin/ebtables (ebtables) in auto mode\r\n",
            "Setting up docker-ce (5:24.0.2-1~ubuntu.20.04~focal) ...\r\n",
            "Created symlink /etc/systemd/system/multi-user.target.wants/docker.service → /lib/systemd/system/docker.service.\r\n",
            "Created symlink /etc/systemd/system/sockets.target.wants/docker.socket → /lib/systemd/system/docker.socket.\r\n",
            "invoke-rc.d: could not determine current runlevel\r\n",
            "invoke-rc.d: policy-rc.d denied execution of start.\r\n",
            "Processing triggers for systemd (245.4-4ubuntu3.22) ...\r\n",
            "Processing triggers for man-db (2.9.1-1) ...\r\n",
            "Processing triggers for libc-bin (2.31-0ubuntu9.9) ...\r\n"
          ]
        }
      ],
      "source": [
        "%%bash\n",
        "apt-get update\n",
        "apt-get install docker-ce docker-ce-cli containerd.io docker-buildx-plugin docker-compose-plugin"
      ]
    },
    {
      "cell_type": "code",
      "execution_count": null,
      "metadata": {
        "colab": {
          "base_uri": "https://localhost:8080/"
        },
        "id": "4xdXzaObaqfs",
        "outputId": "2196b057-757c-4761-8fed-6289b56dce00"
      },
      "outputs": [
        {
          "name": "stdout",
          "output_type": "stream",
          "text": [
            "dockerd: no process found\n",
            "rm: cannot remove '/var/run/docker.pid': No such file or directory\n",
            "+ nohup dockerd -b none --iptables=0 -l warn\n",
            "nohup: appending output to 'nohup.out'\n"
          ]
        },
        {
          "data": {
            "text/plain": []
          },
          "execution_count": 3,
          "metadata": {},
          "output_type": "execute_result"
        }
      ],
      "source": [
        "%%shell\n",
        "killall dockerd\n",
        "rm /var/run/docker.pid\n",
        "set -x\n",
        "nohup dockerd -b none --iptables=0 -l warn &"
      ]
    },
    {
      "cell_type": "code",
      "execution_count": null,
      "metadata": {
        "colab": {
          "base_uri": "https://localhost:8080/"
        },
        "id": "EoQoNq4RcRRk",
        "outputId": "989b4883-c0e3-40b1-9f89-4f2c21565142"
      },
      "outputs": [
        {
          "name": "stdout",
          "output_type": "stream",
          "text": [
            "21.3.0-xe: Pulling from database/express\n",
            "\n",
            "\u001b[1A\u001b[2K\r63183c9b4598: Pulling fs layer \r\u001b[1B\n",
            "\u001b[1A\u001b[2K\rfe297bb4960b: Pulling fs layer \r\u001b[1B\n",
            "\u001b[1A\u001b[2K\r31dd4858f370: Pulling fs layer \r\u001b[1B\n",
            "\u001b[1B\n",
            "\u001b[1BDigest: sha256:016d1a2becd9c9b9bfb683eebf3aa092527fe1354ace5b23691e75759f301bed\n",
            "Status: Downloaded newer image for container-registry.oracle.com/database/express:21.3.0-xe\n",
            "container-registry.oracle.com/database/express:21.3.0-xe\n"
          ]
        }
      ],
      "source": [
        "!docker pull container-registry.oracle.com/database/express:21.3.0-xe\n",
        "#!docker save -o img.tar container-registry.oracle.com/database/express:21.3.0-xe"
      ]
    },
    {
      "cell_type": "code",
      "execution_count": null,
      "metadata": {
        "colab": {
          "base_uri": "https://localhost:8080/"
        },
        "id": "Fnwltec_h5T2",
        "outputId": "2e354705-9254-4d7a-b01a-b9cb3d7c0e28"
      },
      "outputs": [
        {
          "name": "stdout",
          "output_type": "stream",
          "text": [
            "REPOSITORY                                       TAG         IMAGE ID       CREATED        SIZE\n",
            "container-registry.oracle.com/database/express   21.3.0-xe   c273dde6b184   8 months ago   11.2GB\n"
          ]
        }
      ],
      "source": [
        "!docker images"
      ]
    },
    {
      "cell_type": "code",
      "execution_count": null,
      "metadata": {
        "id": "lrBeA0Hahxuv"
      },
      "outputs": [],
      "source": [
        "!docker export $(docker create container-registry.oracle.com/database/express:21.3.0-xe) > img.tar"
      ]
    },
    {
      "cell_type": "code",
      "execution_count": null,
      "metadata": {
        "id": "xXX-zss-j2_o"
      },
      "outputs": [],
      "source": [
        "!mkdir img"
      ]
    },
    {
      "cell_type": "code",
      "execution_count": null,
      "metadata": {
        "colab": {
          "base_uri": "https://localhost:8080/"
        },
        "id": "T1SZleLrgTzm",
        "outputId": "7363ca1f-86af-49a9-945a-bdffec705388"
      },
      "outputs": [
        {
          "name": "stdout",
          "output_type": "stream",
          "text": [
            "total 11G\n",
            "drwxr-xr-x  1 root root 4.0K Jun 24 11:47 .\n",
            "drwxr-xr-x  1 root root 4.0K Jun 24 11:32 ..\n",
            "drwxr-xr-x  4 root root 4.0K Jun 23 01:14 .config\n",
            "drwxr-xr-x 17 root root 4.0K Jun 24 11:49 img\n",
            "-rw-r--r--  1 root root  11G Jun 24 11:47 img.tar\n",
            "-rw-------  1 root root  809 Jun 24 11:34 nohup.out\n",
            "drwxr-xr-x  1 root root 4.0K Jun 23 01:15 sample_data\n"
          ]
        }
      ],
      "source": [
        "!tar -C img -xf img.tar && ls -lah"
      ]
    },
    {
      "cell_type": "code",
      "execution_count": null,
      "metadata": {
        "id": "U5YJ_tBFlfNI"
      },
      "outputs": [],
      "source": [
        "%%bash\n",
        "cd img\n",
        "mount -t proc /proc proc/\n",
        "mount --rbind /sys sys/\n",
        "mount --rbind /dev dev/"
      ]
    },
    {
      "cell_type": "code",
      "execution_count": null,
      "metadata": {
        "colab": {
          "base_uri": "https://localhost:8080/"
        },
        "id": "DgLzbkRkogvT",
        "outputId": "ea4e1bf4-d9cf-4c02-ae4b-bab9caa63265"
      },
      "outputs": [
        {
          "name": "stdout",
          "output_type": "stream",
          "text": [
            "total 60K\n",
            "drwxr-xr-x  17 root root 4.0K Jun 24 11:49 .\n",
            "drwxr-xr-x   1 root root 4.0K Jun 24 11:47 ..\n",
            "lrwxrwxrwx   1 root root    7 Jun 15  2022 bin -> usr/bin\n",
            "dr-xr-xr-x   2 root root 4.0K Apr 11  2018 boot\n",
            "drwxr-xr-x   5 root root  360 Jun 24 11:32 dev\n",
            "lrwxrwxrwx   1 root root   19 Sep 30  2022 docker-entrypoint-initdb.d -> /opt/oracle/scripts\n",
            "-rwxr-xr-x   1 root root    0 Jun 24 11:44 .dockerenv\n",
            "drwxr-xr-x  62 root root 4.0K Jun 24 11:44 etc\n",
            "drwxr-xr-x   3 root root 4.0K Sep 30  2022 home\n",
            "lrwxrwxrwx   1 root root    7 Jun 15  2022 lib -> usr/lib\n",
            "lrwxrwxrwx   1 root root    9 Jun 15  2022 lib64 -> usr/lib64\n",
            "drwxr-xr-x   2 root root 4.0K Apr 11  2018 media\n",
            "drwxr-xr-x   2 root root 4.0K Apr 11  2018 mnt\n",
            "drwxr-xr-x   4 root root 4.0K Sep 30  2022 opt\n",
            "dr-xr-xr-x 187 root root    0 Jun 24 11:49 proc\n",
            "dr-xr-x---   3 root root 4.0K Sep 30  2022 root\n",
            "drwxr-xr-x  13 root root 4.0K Sep 30  2022 run\n",
            "lrwxrwxrwx   1 root root    8 Jun 15  2022 sbin -> usr/sbin\n",
            "-rw-r--r--   1 root root   22 Jun 24 11:49 script.sql\n",
            "drwxr-xr-x   2 root root 4.0K Apr 11  2018 srv\n",
            "dr-xr-xr-x  13 root root    0 Jun 24 11:32 sys\n",
            "drwxrwxrwt  10 root root 4.0K Sep 30  2022 tmp\n",
            "drwxr-xr-x  13 root root 4.0K Jun 15  2022 usr\n",
            "drwxr-xr-x  18 root root 4.0K Jun 15  2022 var\n",
            "total 20K\n",
            "drwxr-xr-x  5 54321 54321 4.0K Sep 30  2022 .\n",
            "drwxr-xr-x 12 54321 54321 4.0K Sep 30  2022 ..\n",
            "drwxr-xr-x  4 54321 54321 4.0K Sep 30  2022 extensions\n",
            "drwxr-xr-x  2 54321 54321 4.0K Sep 30  2022 setup\n",
            "drwxr-xr-x  2 54321 54321 4.0K Sep 30  2022 startup\n",
            "total 8.0K\n",
            "drwxr-xr-x 2 54321 54321 4.0K Sep 30  2022 .\n",
            "drwxr-xr-x 5 54321 54321 4.0K Sep 30  2022 ..\n",
            "total 8.0K\n",
            "drwxr-xr-x 2 54321 54321 4.0K Sep 30  2022 .\n",
            "drwxr-xr-x 5 54321 54321 4.0K Sep 30  2022 ..\n"
          ]
        }
      ],
      "source": [
        "!ls -lah /content/img/\n",
        "!ls -lah /content/img/opt/oracle/scripts\n",
        "!ls -lah /content/img/opt/oracle/scripts/setup\n",
        "!ls -lah /content/img/opt/oracle/scripts/startup"
      ]
    },
    {
      "cell_type": "code",
      "execution_count": null,
      "metadata": {
        "colab": {
          "base_uri": "https://localhost:8080/"
        },
        "id": "BfY0qZpuzY48",
        "outputId": "d28443d5-3dd0-49b1-9f9d-eff5378a4e21"
      },
      "outputs": [
        {
          "name": "stdout",
          "output_type": "stream",
          "text": [
            "UID          PID    PPID  C STIME TTY          TIME CMD\n",
            "root           1       0  0 11:32 ?        00:00:00 /sbin/docker-init -- /datala\n",
            "root           7       1  0 11:32 ?        00:00:03 /tools/node/bin/node /datala\n",
            "root          18       0  0 11:32 ?        00:00:00 tail -n +0 -F /root/.config/\n",
            "root          29       7  0 11:32 ?        00:00:00 /bin/bash -e /usr/local/cola\n",
            "root          31       1  0 11:32 ?        00:00:00 /bin/bash -e /datalab/run.sh\n",
            "root          33      31  0 11:32 ?        00:00:00 /usr/colab/bin/kernel_manage\n",
            "root          60       7  0 11:32 ?        00:00:07 [python3] <defunct>\n",
            "root          61       7  0 11:32 ?        00:00:00 python3 /usr/local/bin/colab\n",
            "root          78       7  0 11:32 ?        00:00:07 /usr/bin/python3 /usr/local/\n",
            "root          79       7  0 11:32 ?        00:00:01 /usr/local/bin/dap_multiplex\n",
            "root         264      78  1 11:33 ?        00:00:13 /usr/bin/python3 -m ipykerne\n",
            "root         291       1  0 11:33 ?        00:00:03 /usr/bin/python3 /usr/local/\n",
            "root         328       7  0 11:33 ?        00:00:00 /usr/colab/bin/language_serv\n",
            "root         341     328  0 11:33 ?        00:00:03 node /datalab/web/pyright/py\n",
            "root        3606       1 38 11:34 ?        00:05:48 dockerd -b none --iptables=0\n",
            "root        3612    3606  0 11:34 ?        00:00:00 containerd --config /var/run\n",
            "root        7270      29  0 11:49 ?        00:00:00 sleep 1\n",
            "root        7278     264  0 11:49 ?        00:00:00 ps -Af\n"
          ]
        }
      ],
      "source": [
        "!ps -Af"
      ]
    },
    {
      "cell_type": "code",
      "execution_count": null,
      "metadata": {
        "colab": {
          "base_uri": "https://localhost:8080/"
        },
        "id": "aM8mgjEQ9P6g",
        "outputId": "350a24e8-3798-46a5-b838-23e3e67bb985"
      },
      "outputs": [
        {
          "name": "stdout",
          "output_type": "stream",
          "text": [
            "Netca configuration log\n",
            "\n",
            "Parsing command line arguments:\n",
            "    Parameter \"orahome\" = /opt/oracle/product/21c/dbhomeXE\n",
            "    Parameter \"instype\" = typical\n",
            "    Parameter \"inscomp\" = client,oraclenet,javavm,server,ano\n",
            "    Parameter \"insprtcl\" = tcp\n",
            "    Parameter \"cfg\" = local\n",
            "    Parameter \"authadp\" = NO_VALUE\n",
            "    Parameter \"responsefile\" = /opt/oracle/product/21c/dbhomeXE/network/install/netca_typ.rsp\n",
            "    Parameter \"silent\" = true\n",
            "    Parameter \"orahnam\" = OraHomeXE\n",
            "    Parameter \"listenerparameters\" = DEFAULT_SERVICE=XE\n",
            "    Parameter \"lisport\" = 1521\n",
            "Done parsing command line arguments.\n",
            "Oracle Net Services Configuration:\n",
            "Profile configuration complete.\n",
            "Listener is using the port provided in the command line:1521\n",
            "Oracle Net Listener Startup:\n",
            "    Running Listener Control: \n",
            "      /opt/oracle/product/21c/dbhomeXE/bin/lsnrctl start LISTENER\n",
            "    Listener Control complete.\n",
            "    Listener started successfully.\n",
            "Listener configuration complete.\n",
            "Oracle Net Services configuration successful. The exit code is 0\n"
          ]
        }
      ],
      "source": [
        "!cat img/opt/oracle/cfgtoollogs/netca/netca_configure_out.log"
      ]
    },
    {
      "cell_type": "code",
      "execution_count": null,
      "metadata": {
        "colab": {
          "base_uri": "https://localhost:8080/"
        },
        "id": "HevN2eAW_XH6",
        "outputId": "e2ec10c0-8df6-49ca-daef-113d14a450af"
      },
      "outputs": [
        {
          "name": "stdout",
          "output_type": "stream",
          "text": [
            "All background processes were killed.\n"
          ]
        }
      ],
      "source": [
        "%killbgscripts"
      ]
    },
    {
      "cell_type": "code",
      "execution_count": null,
      "metadata": {
        "id": "jPyIL4slqNPY"
      },
      "outputs": [],
      "source": [
        "%%script bash --bg --out script_out --err script_err\n",
        "chroot img\n",
        "export ORACLE_BASE=/opt/oracle\n",
        "export ORACLE_HOME=/opt/oracle/product/21c/dbhomeXE\n",
        "export ORACLE_BASE_HOME=/opt/oracle/homes/OraDBHome21cXE\n",
        "export ORACLE_PWD=pwd123456\n",
        "\n",
        "export PATH=$PATH:/opt/oracle/product/21c/dbhomeXE/bin/\n",
        "export ORACLE_SID=XE\n",
        "export PWD_FILE=\"setPassword.sh\"\n",
        "export RUN_FILE=\"runOracle.sh\"\n",
        "export START_FILE=\"startDB.sh\"\n",
        "export CREATE_DB_FILE=\"createDB.sh\"\n",
        "export SETUP_LINUX_FILE=\"setupLinuxEnv.sh\"\n",
        "export CHECK_SPACE_FILE=\"checkSpace.sh\"\n",
        "export CHECK_DB_FILE=\"checkDBStatus.sh\"\n",
        "export USER_SCRIPTS_FILE=\"runUserScripts.sh\"\n",
        "export INSTALL_DB_BINARIES_FILE=\"installDBBinaries.sh\"\n",
        "export INSTALL_RSP=\"db_inst.rsp\"\n",
        "export CONFIG_RSP=\"dbca.rsp.tmpl\"\n",
        "export CONF_FILE=\"oracle-xe-21c.conf\"\n",
        "\n",
        "su oracle\n",
        "cd /opt/oracle/\n",
        "./$RUN_FILE"
      ]
    },
    {
      "cell_type": "code",
      "execution_count": null,
      "metadata": {
        "colab": {
          "base_uri": "https://localhost:8080/"
        },
        "id": "D1KDg2zuoV16",
        "outputId": "9690c5f4-5a90-45d4-de79-eaa5864cbc0a"
      },
      "outputs": [
        {
          "name": "stdout",
          "output_type": "stream",
          "text": [
            "Writing /content/img/script.sql\n"
          ]
        }
      ],
      "source": [
        "%%writefile /content/img/script.sql\n",
        "SELECT uid FROM dual;"
      ]
    },
    {
      "cell_type": "code",
      "execution_count": null,
      "metadata": {
        "colab": {
          "base_uri": "https://localhost:8080/"
        },
        "id": "kRt8NjVkVG3s",
        "outputId": "0c2387dd-9170-4fd5-f338-a7e409b335c2"
      },
      "outputs": [
        {
          "name": "stdout",
          "output_type": "stream",
          "text": [
            "Overwriting /content/img/add_user.sql\n"
          ]
        }
      ],
      "source": [
        "%%writefile /content/img/add_user.sql\n",
        "CREATE USER john IDENTIFIED BY pwd123456;\n",
        "GRANT CREATE SESSION TO john;\n",
        "GRANT CREATE ANY PROCEDURE TO john;\n",
        "GRANT CREATE ANY TABLE TO john;\n",
        "GRANT CREATE ANY VIEW TO john;"
      ]
    },
    {
      "cell_type": "code",
      "execution_count": null,
      "metadata": {
        "colab": {
          "base_uri": "https://localhost:8080/"
        },
        "id": "uhtVj-08XbMk",
        "outputId": "15e03202-73fa-4db6-9ccb-f3c9474fb2dd"
      },
      "outputs": [
        {
          "name": "stdout",
          "output_type": "stream",
          "text": [
            "Overwriting /content/img/add_packages.sql\n"
          ]
        }
      ],
      "source": [
        "%%writefile /content/img/add_packages.sql\n",
        "CREATE OR REPLACE PACKAGE test AS\n",
        "  PROCEDURE test_proc;\n",
        "END test;\n",
        "/\n",
        "\n",
        "CREATE OR REPLACE PACKAGE BODY test AS\n",
        "  PROCEDURE test_proc AS\n",
        "  BEGIN\n",
        "    NULL;\n",
        "  END;\n",
        "END test;\n",
        "/\n",
        "quit"
      ]
    },
    {
      "cell_type": "code",
      "execution_count": null,
      "metadata": {},
      "outputs": [],
      "source": [
        "%%writefile {PATH_PREFIX}content/img/add_tables.sql\n",
        "CREATE TABLE TEST_TABLE\n",
        "(\n",
        "  test_col VARCHAR(255)\n",
        ");\n",
        "\n",
        "quit"
      ]
    },
    {
      "cell_type": "code",
      "execution_count": null,
      "metadata": {},
      "outputs": [],
      "source": [
        "%%writefile {PATH_PREFIX}content/img/add_views.sql\n",
        "CREATE VIEW TEST_VIEW AS\n",
        "  SELECT * FROM TEST_TABLE;\n",
        "\n",
        "quit"
      ]
    },
    {
      "cell_type": "code",
      "execution_count": null,
      "metadata": {
        "colab": {
          "base_uri": "https://localhost:8080/"
        },
        "id": "UDjUNfVQkySu",
        "outputId": "a6597579-3a31-4701-e8ba-f28004dadd8b"
      },
      "outputs": [
        {
          "name": "stdout",
          "output_type": "stream",
          "text": [
            "Overwriting /content/img/select_objects.sql\n"
          ]
        }
      ],
      "source": [
        "%%writefile /content/img/select_objects.sql\n",
        "\n",
        "set colsep ,     -- separate columns with a comma\n",
        "set pagesize 0   -- No header rows\n",
        "set trimspool on -- remove trailing blanks\n",
        "set headsep off  -- this may or may not be useful...depends on your headings.\n",
        "set linesize 4096   -- X should be the sum of the column widths\n",
        "set numw 4096       -- X should be the length you want for numbers (avoid scientific notation on IDs)\n",
        "\n",
        "spool select.csv\n",
        "SELECT * FROM all_objects WHERE LOWER(OWNER)='john';\n",
        "spool off"
      ]
    },
    {
      "cell_type": "code",
      "execution_count": null,
      "metadata": {
        "colab": {
          "base_uri": "https://localhost:8080/"
        },
        "id": "UdDOvkIjnv9g",
        "outputId": "63978bbd-020b-4d02-9e48-faac9cb8804c"
      },
      "outputs": [
        {
          "name": "stdout",
          "output_type": "stream",
          "text": [
            "\n",
            "SQL*Plus: Release 21.0.0.0.0 - Production on Sat Jun 24 12:00:28 2023\n",
            "Version 21.3.0.0.0\n",
            "\n",
            "Copyright (c) 1982, 2021, Oracle.  All rights reserved.\n",
            "\n",
            "\n",
            "Connected to:\n",
            "Oracle Database 21c Express Edition Release 21.0.0.0.0 - Production\n",
            "Version 21.3.0.0.0\n",
            "\n",
            "\n",
            "       UID\n",
            "----------\n",
            "\t 0\n",
            "\n",
            "SQL> Disconnected from Oracle Database 21c Express Edition Release 21.0.0.0.0 - Production\n",
            "Version 21.3.0.0.0\n"
          ]
        },
        {
          "name": "stderr",
          "output_type": "stream",
          "text": [
            "bash: no job control in this shell\n",
            "bash-4.2# export ORACLE_HOME=/opt/oracle/product/21c/dbhomeXE\n",
            "bash-4.2# export PATH=$PATH:/opt/oracle/product/21c/dbhomeXE/bin/\n",
            "bash-4.2# export ORACLE_SID=XE\n",
            "bash-4.2# sqlplus sys/pwd123456@//localhost:1521/XE AS SYSDBA @script.sql\n",
            "bash-4.2# exit\n"
          ]
        }
      ],
      "source": [
        "%%bash\n",
        "chroot img\n",
        "export ORACLE_HOME=/opt/oracle/product/21c/dbhomeXE\n",
        "export PATH=$PATH:/opt/oracle/product/21c/dbhomeXE/bin/\n",
        "export ORACLE_SID=XE\n",
        "sqlplus sys/pwd123456@//localhost:1521/XE AS SYSDBA @script.sql"
      ]
    },
    {
      "cell_type": "code",
      "execution_count": null,
      "metadata": {
        "colab": {
          "base_uri": "https://localhost:8080/"
        },
        "id": "sq7FnWvAVSX0",
        "outputId": "63ca95df-76b6-4c79-9405-211e6c5ea683"
      },
      "outputs": [
        {
          "name": "stdout",
          "output_type": "stream",
          "text": [
            "\n",
            "SQL*Plus: Release 21.0.0.0.0 - Production on Sat Jun 24 14:33:28 2023\n",
            "Version 21.3.0.0.0\n",
            "\n",
            "Copyright (c) 1982, 2021, Oracle.  All rights reserved.\n",
            "\n",
            "\n",
            "Connected to:\n",
            "Oracle Database 21c Express Edition Release 21.0.0.0.0 - Production\n",
            "Version 21.3.0.0.0\n",
            "\n",
            "CREATE USER john IDENTIFIED BY pwd123456\n",
            "            *\n",
            "ERROR at line 1:\n",
            "ORA-01920: user name 'JOHN' conflicts with another user or role name\n",
            "\n",
            "\n",
            "\n",
            "Grant succeeded.\n",
            "\n",
            "\n",
            "Grant succeeded.\n",
            "\n",
            "SQL> Disconnected from Oracle Database 21c Express Edition Release 21.0.0.0.0 - Production\n",
            "Version 21.3.0.0.0\n"
          ]
        },
        {
          "name": "stderr",
          "output_type": "stream",
          "text": [
            "bash: no job control in this shell\n",
            "bash-4.2# export ORACLE_HOME=/opt/oracle/product/21c/dbhomeXE\n",
            "bash-4.2# export PATH=$PATH:/opt/oracle/product/21c/dbhomeXE/bin/\n",
            "bash-4.2# export ORACLE_SID=XE\n",
            "bash-4.2# sqlplus sys/pwd123456@//localhost:1521/XEPDB1 AS SYSDBA @add_user.sql\n",
            "bash-4.2# exit\n"
          ]
        }
      ],
      "source": [
        "%%bash\n",
        "chroot img\n",
        "export ORACLE_HOME=/opt/oracle/product/21c/dbhomeXE\n",
        "export PATH=$PATH:/opt/oracle/product/21c/dbhomeXE/bin/\n",
        "export ORACLE_SID=XE\n",
        "sqlplus sys/pwd123456@//localhost:1521/XEPDB1 AS SYSDBA @add_user.sql"
      ]
    },
    {
      "cell_type": "code",
      "execution_count": null,
      "metadata": {
        "colab": {
          "base_uri": "https://localhost:8080/"
        },
        "id": "bskQ62jgXpn-",
        "outputId": "a1d7bce1-0176-4479-b4b3-d8b0236ff6aa"
      },
      "outputs": [
        {
          "name": "stdout",
          "output_type": "stream",
          "text": [
            "\n",
            "SQL*Plus: Release 21.0.0.0.0 - Production on Sat Jun 24 14:36:04 2023\n",
            "Version 21.3.0.0.0\n",
            "\n",
            "Copyright (c) 1982, 2021, Oracle.  All rights reserved.\n",
            "\n",
            "Last Successful login time: Sat Jun 24 2023 14:35:45 +00:00\n",
            "\n",
            "Connected to:\n",
            "Oracle Database 21c Express Edition Release 21.0.0.0.0 - Production\n",
            "Version 21.3.0.0.0\n",
            "\n",
            "\n",
            "Package created.\n",
            "\n",
            "\n",
            "Package body created.\n",
            "\n",
            "SQL> Disconnected from Oracle Database 21c Express Edition Release 21.0.0.0.0 - Production\n",
            "Version 21.3.0.0.0\n"
          ]
        },
        {
          "name": "stderr",
          "output_type": "stream",
          "text": [
            "bash: no job control in this shell\n",
            "bash-4.2# export ORACLE_HOME=/opt/oracle/product/21c/dbhomeXE\n",
            "bash-4.2# export PATH=$PATH:/opt/oracle/product/21c/dbhomeXE/bin/\n",
            "bash-4.2# export ORACLE_SID=XE\n",
            "bash-4.2# sqlplus john/pwd123456@//localhost:1521/XEPDB1 @add_packages.sql\n",
            "bash-4.2# exit\n"
          ]
        }
      ],
      "source": [
        "%%bash\n",
        "chroot img\n",
        "export ORACLE_HOME=/opt/oracle/product/21c/dbhomeXE\n",
        "export PATH=$PATH:/opt/oracle/product/21c/dbhomeXE/bin/\n",
        "export ORACLE_SID=XE\n",
        "sqlplus john/pwd123456@//localhost:1521/XEPDB1 @add_packages.sql\n",
        "sqlplus john/pwd123456@//localhost:1521/XEPDB1 @add_tables.sql\n",
        "sqlplus john/pwd123456@//localhost:1521/XEPDB1 @add_views.sql"
      ]
    },
    {
      "cell_type": "code",
      "execution_count": null,
      "metadata": {
        "colab": {
          "base_uri": "https://localhost:8080/"
        },
        "id": "TIzYsDedk7AB",
        "outputId": "95f6b1b4-a53a-4886-fe49-ccc073c1b1c2"
      },
      "outputs": [
        {
          "name": "stderr",
          "output_type": "stream",
          "text": [
            "bash: no job control in this shell\n",
            "bash-4.2# export ORACLE_HOME=/opt/oracle/product/21c/dbhomeXE\n",
            "bash-4.2# export PATH=$PATH:/opt/oracle/product/21c/dbhomeXE/bin/\n",
            "bash-4.2# export ORACLE_SID=XE\n",
            "bash-4.2# sqlplus john/pwd123456@//localhost:1521/XEPDB1 @select_objects.sql 1>  \rselect_1.txt 2> select_2.txt\n",
            "bash-4.2# exit\n"
          ]
        }
      ],
      "source": [
        "%%bash\n",
        "chroot img\n",
        "export ORACLE_HOME=/opt/oracle/product/21c/dbhomeXE\n",
        "export PATH=$PATH:/opt/oracle/product/21c/dbhomeXE/bin/\n",
        "export ORACLE_SID=XE\n",
        "sqlplus john/pwd123456@//localhost:1521/XEPDB1 @select_objects.sql 1> select_1.txt 2> select_2.txt"
      ]
    },
    {
      "cell_type": "code",
      "execution_count": null,
      "metadata": {
        "colab": {
          "base_uri": "https://localhost:8080/"
        },
        "id": "kZ6VL3MUmT_r",
        "outputId": "36e9cd49-f103-415e-fea6-a62f2cf6e843"
      },
      "outputs": [
        {
          "name": "stdout",
          "output_type": "stream",
          "text": [
            "-rw-r--r-- 1 root root 1.2K Jun 24 14:36 img/select_1.txt\n",
            "-rw-r--r-- 1 root root    0 Jun 24 14:36 img/select_2.txt\n",
            "-rw-r--r-- 1 root root 1.6K Jun 24 14:36 img/select.csv\n"
          ]
        }
      ],
      "source": [
        "!ls -lah img/select_1.txt img/select_2.txt img/select.csv"
      ]
    },
    {
      "cell_type": "code",
      "execution_count": null,
      "metadata": {
        "id": "711obF3PnAG4"
      },
      "outputs": [],
      "source": [
        "!tar cfz select.tar.gz img/select.csv"
      ]
    },
    {
      "cell_type": "code",
      "execution_count": null,
      "metadata": {
        "colab": {
          "base_uri": "https://localhost:8080/"
        },
        "id": "LsLoicUBSTja",
        "outputId": "ea8baeb7-ff33-47f8-fb16-b40701040ddf"
      },
      "outputs": [
        {
          "name": "stderr",
          "output_type": "stream",
          "text": [
            "Cloning into 'git-remote-oracle'...\n"
          ]
        }
      ],
      "source": [
        "%%bash\n",
        "git clone https://github.com/TheCrazyT/git-remote-oracle"
      ]
    },
    {
      "cell_type": "code",
      "execution_count": null,
      "metadata": {
        "colab": {
          "base_uri": "https://localhost:8080/"
        },
        "id": "xdocc_JLTZcD",
        "outputId": "f27a63ed-695c-4767-a1b0-703297f52689"
      },
      "outputs": [
        {
          "name": "stdout",
          "output_type": "stream",
          "text": [
            "On branch main\n",
            "Your branch is up to date with 'origin/main'.\n",
            "\n",
            "nothing to commit, working tree clean\n",
            "Updating 6fa5413..26b1698\n",
            "Fast-forward\n",
            " git-remote-oracle | 2 +-\n",
            " 1 file changed, 1 insertion(+), 1 deletion(-)\n"
          ]
        },
        {
          "name": "stderr",
          "output_type": "stream",
          "text": [
            "Updated 1 path from the index\n",
            "From https://github.com/TheCrazyT/git-remote-oracle\n",
            "   6fa5413..26b1698  main       -> origin/main\n"
          ]
        }
      ],
      "source": [
        "%%bash\n",
        "cd git-remote-oracle\n",
        "git checkout git-remote-oracle\n",
        "git status\n",
        "git pull"
      ]
    },
    {
      "cell_type": "code",
      "execution_count": null,
      "metadata": {
        "colab": {
          "base_uri": "https://localhost:8080/"
        },
        "id": "HUdSZ4ddSztT",
        "outputId": "0930eff6-4bcc-4d4b-fef4-d752dc01565c"
      },
      "outputs": [
        {
          "name": "stdout",
          "output_type": "stream",
          "text": [
            "Looking in indexes: https://pypi.org/simple, https://us-python.pkg.dev/colab-wheels/public/simple/\n",
            "Requirement already satisfied: oracledb in /usr/local/lib/python3.10/dist-packages (1.3.2)\n",
            "Requirement already satisfied: pexpect in /usr/local/lib/python3.10/dist-packages (4.8.0)\n",
            "Requirement already satisfied: cryptography>=3.2.1 in /usr/local/lib/python3.10/dist-packages (from oracledb) (41.0.1)\n",
            "Requirement already satisfied: ptyprocess>=0.5 in /usr/local/lib/python3.10/dist-packages (from pexpect) (0.7.0)\n",
            "Requirement already satisfied: cffi>=1.12 in /usr/local/lib/python3.10/dist-packages (from cryptography>=3.2.1->oracledb) (1.15.1)\n",
            "Requirement already satisfied: pycparser in /usr/local/lib/python3.10/dist-packages (from cffi>=1.12->cryptography>=3.2.1->oracledb) (2.21)\n"
          ]
        }
      ],
      "source": [
        "!pip install oracledb pexpect"
      ]
    },
    {
      "cell_type": "code",
      "execution_count": null,
      "metadata": {
        "colab": {
          "base_uri": "https://localhost:8080/"
        },
        "id": "vEw3UMjiSY86",
        "outputId": "fcafd8c4-5016-44fa-f0fb-295bc124e0b8"
      },
      "outputs": [
        {
          "name": "stderr",
          "output_type": "stream",
          "text": [
            "Cloning into 'JOHN'...\n",
            "START\n",
            "['/content/git-remote-oracle/git-remote-oracle', 'origin', 'oracle://127.0.0.1:1521/XEPDB1/JOHN']\n",
            "oracle://127.0.0.1:1521/XEPDB1/JOHN\n",
            "host_and_path: 127.0.0.1:1521/XEPDB1/JOHN\n",
            "host_and_port: 127.0.0.1:1521\n",
            "host: 127.0.0.1\n",
            "port: 1521\n",
            "service_and_schema: XEPDB1/JOHN\n",
            "service: XEPDB1\n",
            "schema: JOHN\n",
            "expected 'Username for' End Of File (EOF). Exception style platform.\n",
            "<pexpect.pty_spawn.spawn object at 0x7f179df8fd60>\n",
            "command: /usr/lib/git-core/git\n",
            "args: ['/usr/lib/git-core/git', 'credential', 'fill']\n",
            "buffer (last 100 chars): b''\n",
            "before (last 100 chars): b'protocol=oracle\\r\\nhost=127.0.0.1\\r\\nusername=john\\r\\npassword=pwd123456\\r\\n'\n",
            "after: <class 'pexpect.exceptions.EOF'>\n",
            "match: None\n",
            "match_index: None\n",
            "exitstatus: 0\n",
            "flag_eof: True\n",
            "pid: 61902\n",
            "child_fd: 5\n",
            "closed: False\n",
            "timeout: 30\n",
            "delimiter: <class 'pexpect.exceptions.EOF'>\n",
            "logfile: None\n",
            "logfile_read: None\n",
            "logfile_send: None\n",
            "maxread: 2000\n",
            "ignorecase: False\n",
            "searchwindowsize: None\n",
            "delaybeforesend: 0.05\n",
            "delayafterclose: 0.1\n",
            "delayafterterminate: 0.1\n",
            "searcher: searcher_re:\n",
            "    0: re.compile(b'Username for .*')\n",
            "prop: -->protocol=oracle\r\n",
            "host=127.0.0.1\r\n",
            "username=john\r\n",
            "password=pwd123456\r\n",
            "<--\n",
            "config: <configparser.ConfigParser object at 0x7f179c8818a0>\n",
            "config: <configparser.ConfigParser object at 0x7f179c8818a0>\n",
            "cmd: capabilities\n",
            "in func: cmd_capabilities\n",
            "import\n",
            "export\n",
            "refspec refs/heads/*:refs/heads/*\n",
            "\n",
            "cmd: list\n",
            "in func: cmd_list\n",
            ":object-format sha1\n",
            "? refs/heads/main\n",
            "@refs/heads/main HEAD\n",
            "\n",
            "cmd: import refs/heads/main\n",
            "in func: cmd_import\n",
            "  import refs/heads/main\n",
            "\n",
            "reset refs/heads/main\n",
            "connected\n",
            "object_name: TEST\n",
            "blob\n",
            "mark :75744\n",
            "data 210\n",
            "\n",
            "  CREATE OR REPLACE EDITIONABLE PACKAGE \"JOHN\".\"TEST\" AS\n",
            "  PROCEDURE test_proc;\n",
            "END test;\n",
            "CREATE OR REPLACE EDITIONABLE PACKAGE BODY \"JOHN\".\"TEST\" AS\n",
            "  PROCEDURE test_proc AS\n",
            "  BEGIN\n",
            "    NULL;\n",
            "  END;\n",
            "END test;\n",
            "object_name: TEST\n",
            "blob\n",
            "mark :75745\n",
            "data 122\n",
            "\n",
            "  CREATE OR REPLACE EDITIONABLE PACKAGE BODY \"JOHN\".\"TEST\" AS\n",
            "  PROCEDURE test_proc AS\n",
            "  BEGIN\n",
            "    NULL;\n",
            "  END;\n",
            "END test;\n",
            "commit refs/heads/main\n",
            "committer <notexisting@notexisting.com> 1687619610 +0000\n",
            "data 26\n",
            "2023-06-24 15:13:30.247774\n",
            "id: HEAD\n",
            "M 100644 :75744 PACKAGE/TEST.sql\n",
            "M 100644 :75745 PACKAGE BODY/TEST.sql\n",
            "\n",
            "done\n",
            "\n",
            "end\n"
          ]
        }
      ],
      "source": [
        "%%bash\n",
        "export PATH=$PATH:$(pwd)/git-remote-oracle\n",
        "export GR_ORACLE_DEBUG=1\n",
        "export GR_ORACLE_DEBUG_GIT=1\n",
        "chmod +x git-remote-oracle/git-remote-oracle\n",
        "\n",
        "rm -Rf JOHN 2>/dev/null\n",
        "\n",
        "git config --global credential.helper store\n",
        "echo -e \"protocol=oracle\\nhost=127.0.0.1\\nusername=john\\npassword=pwd123456\"|git credential approve\n",
        "git clone oracle://127.0.0.1:1521/XEPDB1/JOHN"
      ]
    },
    {
      "cell_type": "code",
      "execution_count": null,
      "metadata": {},
      "outputs": [],
      "source": [
        "%%bash\n",
        "export PATH=$PATH:$(pwd)/git-remote-oracle\n",
        "export GR_ORACLE_DEBUG=1\n",
        "export GR_ORACLE_DEBUG_GIT=1\n",
        "\n",
        "cd JOHN\n",
        "git pull"
      ]
    },
    {
      "cell_type": "code",
      "execution_count": null,
      "metadata": {
        "colab": {
          "base_uri": "https://localhost:8080/"
        },
        "id": "X7NMv46YXCT6",
        "outputId": "e4119b16-09cd-4713-ea1c-e3788c6ec048"
      },
      "outputs": [
        {
          "name": "stdout",
          "output_type": "stream",
          "text": [
            "total 16K\n",
            "drwxr-xr-x 4 root root 4.0K Jun 24 15:08 .\n",
            "drwxr-xr-x 1 root root 4.0K Jun 24 15:08 ..\n",
            "drwxr-xr-x 8 root root 4.0K Jun 24 15:08 .git\n",
            "drwxr-xr-x 2 root root 4.0K Jun 24 15:08 PACKAGE\n",
            "total 12K\n",
            "drwxr-xr-x 2 root root 4.0K Jun 24 15:08 .\n",
            "drwxr-xr-x 4 root root 4.0K Jun 24 15:08 ..\n",
            "-rw-r--r-- 1 root root  210 Jun 24 15:08 TEST.sql\n"
          ]
        }
      ],
      "source": [
        "!ls -lah JOHN\n",
        "!ls -lah JOHN/PACKAGE"
      ]
    },
    {
      "cell_type": "code",
      "execution_count": null,
      "metadata": {
        "id": "uSRD9g11MYnC"
      },
      "outputs": [],
      "source": [
        "%killbgscripts"
      ]
    }
  ],
  "metadata": {
    "colab": {
      "provenance": []
    },
    "kernelspec": {
      "display_name": "Python 3",
      "name": "python3"
    },
    "language_info": {
      "name": "python"
    }
  },
  "nbformat": 4,
  "nbformat_minor": 0
}
